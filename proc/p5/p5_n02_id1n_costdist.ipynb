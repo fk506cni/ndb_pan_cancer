{
 "cells": [
  {
   "cell_type": "code",
   "execution_count": 1,
   "id": "9e7181c6-d89a-44a8-b225-09c4e65cc91a",
   "metadata": {},
   "outputs": [
    {
     "data": {
      "text/plain": [
       "1"
      ]
     },
     "execution_count": 1,
     "metadata": {},
     "output_type": "execute_result"
    }
   ],
   "source": [
    "1"
   ]
  },
  {
   "cell_type": "markdown",
   "id": "6680cd74-ffa2-4958-b5bf-ea4e43af82d7",
   "metadata": {},
   "source": [
    "calc total point \n",
    "from p4 j03 sumr tablation func cost eachym par"
   ]
  },
  {
   "cell_type": "code",
   "execution_count": 2,
   "id": "dd4f2cdd-8593-4328-9c0d-32d4cbb9482f",
   "metadata": {},
   "outputs": [
    {
     "data": {
      "text/plain": [
       "8-element Vector{Int64}:\n",
       " 2\n",
       " 3\n",
       " 4\n",
       " 5\n",
       " 6\n",
       " 7\n",
       " 8\n",
       " 9"
      ]
     },
     "execution_count": 2,
     "metadata": {},
     "output_type": "execute_result"
    }
   ],
   "source": [
    "using Distributed\n",
    "addprocs(8)"
   ]
  },
  {
   "cell_type": "code",
   "execution_count": 3,
   "id": "47e24992-7c0a-4a02-926e-1ac0629251bb",
   "metadata": {},
   "outputs": [],
   "source": [
    "@everywhere using JSON\n",
    "@everywhere using JLD2\n",
    "@everywhere using HDF5\n",
    "@everywhere using Profile\n",
    "@everywhere using Dates\n",
    "@everywhere using Tables\n",
    "@everywhere using DataFrames\n",
    "@everywhere using DataFramesMeta\n",
    "@everywhere using CSV\n",
    "@everywhere using XLSX\n",
    "@everywhere using BSON\n",
    "@everywhere using Distributed\n",
    "@everywhere using FileIO\n",
    "# using Printf"
   ]
  },
  {
   "cell_type": "code",
   "execution_count": 4,
   "id": "c971d52d-607a-4363-bee6-ae7ab415c028",
   "metadata": {},
   "outputs": [],
   "source": [
    "@everywhere function get_whole_categ(d)\n",
    "    if haskey(d, \"NoCancers\") \n",
    "        if length(d) ==1\n",
    "            return \"NoCancers\", d[\"NoCancers\"]\n",
    "        else\n",
    "            delete!(d, \"NoCancers\")\n",
    "        end\n",
    "    end\n",
    "\n",
    "    ## Here need empyt check!!\n",
    "    \n",
    "    res_comb = d |> (x -> keys(x)) |> (x ->collect(x)) |> (x ->sort(x)) |>  (x ->join(x, \"_\")) \n",
    "    res_count = d |> (x -> values(x)) |> (x ->sum(x))\n",
    "    return res_comb, res_count\n",
    "end"
   ]
  },
  {
   "cell_type": "code",
   "execution_count": null,
   "id": "a33c1a09-e51a-47c5-8007-c55355b69493",
   "metadata": {},
   "outputs": [],
   "source": []
  },
  {
   "cell_type": "code",
   "execution_count": 5,
   "id": "bad22001-90d1-413d-84b7-0d5a0a5e91f1",
   "metadata": {},
   "outputs": [],
   "source": [
    "@everywhere function gen_ymd_dict()\n",
    "    # f_mst = \"../dicts/Jm01_dis_parse/byomei_cancer_20210701.csv\"\n",
    "    # df_mst = @chain CSV.read(f_mst, header=0,types=Dict(4=>String), DataFrame) begin\n",
    "    #         @transform(:tag = first.(:Column17, 3))\n",
    "    #     end\n",
    "    # d_dis2code2 = Dict{String, String}()\n",
    "    # for r in eachrow(df_mst)\n",
    "    #     d_dis2code2[r[\"Column4\"]] = r[\"tag\"]\n",
    "    #     # print(r[\"Column4\"])\n",
    "    #     # break\n",
    "    # end\n",
    "\n",
    "\n",
    "        \n",
    "    # d_cs = Dict{Vector{String}, Dict{String, Dict}}()\n",
    "    # d_ids = Dict{String, Dict{Int32, Any}}()\n",
    "    \n",
    "    d_ids_each = Dict{String, Any}()\n",
    "    d_ids_each[\"first_ym\"] = 0\n",
    "    d_ids_each[\"gender\"] = 0\n",
    "    d_ids_each[\"first_cancers\"] = []\n",
    "    d_ids_each[\"ym_count\"] = 0\n",
    "    d_ids_each[\"last_ym\"] = 0\n",
    "\n",
    "    d_ym = Dict{Int32, Float32}()\n",
    "    d_ymd = Dict{Int32, Float32}()\n",
    "    for y in 2011:2022\n",
    "        # println(string(y))\n",
    "        for m in 1:12\n",
    "            ym = string(y) * lpad(m, 2, \"0\")\n",
    "            d_ym[parse(Int32, ym)] = 0.0\n",
    "            # println(lpad(m, 2, \"0\"))\n",
    "            for d in 1:31\n",
    "                ymd = ym * lpad(d, 2, \"0\")\n",
    "                d_ymd[parse(Int32, ymd)] = 0.0\n",
    "                # println(lpad(d, 2, \"0\"))\n",
    "            end\n",
    "        end\n",
    "    end\n",
    "\n",
    "    # f_iy = \"../dicts/Jm01_dis_parse/dfmeta_iy_20231122_150053_929635.csv\"\n",
    "    # df_iy = @chain CSV.read(f_iy, header=1,types=Dict(\"c2\"=>String), DataFrame) begin\n",
    "    #         end\n",
    "    # d_iy = Dict{String, Dict{Int32, Float32}}()\n",
    "    # for r in eachrow(df_iy)\n",
    "    #     d_iy[r[\"c2\"]] = copy(d_ymd)\n",
    "    # end\n",
    "    \n",
    "    \n",
    "    println(\"base dicts generated\")\n",
    "    return d_ym, d_ymd\n",
    "end"
   ]
  },
  {
   "cell_type": "code",
   "execution_count": 6,
   "id": "e2501022-0ebb-4425-ba34-8a37ebc0af34",
   "metadata": {},
   "outputs": [
    {
     "data": {
      "text/plain": [
       "3-element Vector{String}:\n",
       " \"s_000\"\n",
       " \"s_001\"\n",
       " \"s_002\""
      ]
     },
     "execution_count": 6,
     "metadata": {},
     "output_type": "execute_result"
    }
   ],
   "source": [
    "dbs = [\"s_\" * lpad(i, 3, '0') for i in 0:255]\n",
    "dbs[1:3]"
   ]
  },
  {
   "cell_type": "code",
   "execution_count": 7,
   "id": "e6c3efa9-72bd-4447-8a19-3785276af93d",
   "metadata": {},
   "outputs": [],
   "source": [
    "# dx = load(\"../../../storage/d_id1c/id1ns_d_s_001.jld2\")[\"data\"]"
   ]
  },
  {
   "cell_type": "code",
   "execution_count": 8,
   "id": "a9a776ec-b4ec-4a25-9a16-57b8779cad26",
   "metadata": {},
   "outputs": [],
   "source": [
    "# dx\n",
    "# d2 = load(\"../../../storage/smr_tabl/smr_tbl_cost_s_001.jld2\")[\"data\"]"
   ]
  },
  {
   "cell_type": "code",
   "execution_count": 9,
   "id": "be74f506-1c62-4dcb-a264-8e556a055dca",
   "metadata": {},
   "outputs": [
    {
     "name": "stdout",
     "output_type": "stream",
     "text": [
      "base dicts generated\n"
     ]
    },
    {
     "data": {
      "text/plain": [
       "(Dict{Int32, Float32}(201212 => 0.0, 201505 => 0.0, 201607 => 0.0, 201103 => 0.0, 201206 => 0.0, 201403 => 0.0, 201503 => 0.0, 201606 => 0.0, 201608 => 0.0, 201303 => 0.0…), Dict{Int32, Float32}(20110131 => 0.0, 20120227 => 0.0, 20120327 => 0.0, 20201020 => 0.0, 20201124 => 0.0, 20130711 => 0.0, 20140112 => 0.0, 20110714 => 0.0, 20190824 => 0.0, 20220716 => 0.0…))"
      ]
     },
     "execution_count": 9,
     "metadata": {},
     "output_type": "execute_result"
    }
   ],
   "source": [
    "d_ym, d_ymd = gen_ymd_dict()\n"
   ]
  },
  {
   "cell_type": "code",
   "execution_count": 10,
   "id": "843a6128-a7a1-471b-b3ea-4d775318e960",
   "metadata": {},
   "outputs": [],
   "source": [
    "# x = copy(d_ym)\n",
    "# x"
   ]
  },
  {
   "cell_type": "code",
   "execution_count": 11,
   "id": "0743a5f7-6c75-4ea2-9834-e27ebae5c104",
   "metadata": {},
   "outputs": [],
   "source": [
    "# for (i,(k,v)) in enumerate(dx)\n",
    "#     println(i)\n",
    "#     if v == \"\"\n",
    "#         print(k)\n",
    "#         break\n",
    "#     end\n",
    "    \n",
    "# end"
   ]
  },
  {
   "cell_type": "code",
   "execution_count": 12,
   "id": "9d563d52-cfa1-40dc-a778-af250cf275db",
   "metadata": {
    "scrolled": true
   },
   "outputs": [],
   "source": [
    "# l_whole = []\n",
    "# l_each = []\n",
    "# df_whole = DataFrame()\n",
    "# x = []\n",
    "for f in dbs[1:2]\n",
    "    break\n",
    "# for f in dbs[128:256]\n",
    "    println(f)\n",
    "    d_ym, d_ymd = gen_ymd_dict()\n",
    "    # ../../../storage/smr_tabl/smr_tbl_cs_s_000.jld2\n",
    "    # \"../../../storage/smr_tabl/smr_tbl_cost_s_000.jld2\"\n",
    "    # f_in1 = \"../../../storage/smr_tabl/smr_tbl_cs_\"*f*\".jld2\"\n",
    "\n",
    "    # ../../../storage/d_id1c/id1ns_d_s_196.jld2\n",
    "    \n",
    "    # f_in1 = \"../../../storage/d_id1c/id1ns_d_\"*f*\".jld2\"\n",
    "    f_in1 = \"../../../storage/d_id1c/id1ns_d_\"*f*\".jld2\"\n",
    "    # f2 is id1n to ym cost dict\n",
    "    # f_in2 = \"../../../storage/smr_tabl/smr_tbl_cost_\"*f*\".jld2\"\n",
    "    f_in2 = \"../../../storage/smr_tabl/smr_tbl_cost_\"*f*\".jld2\"\n",
    "    \n",
    "    f_out_c = \"../../../storage/d_id1c/id1ns_smr_cost_\"*f*\".csv\"\n",
    "    println(f_in1)\n",
    "    println(f_in2)\n",
    "    println(f_out_c)\n",
    "    \n",
    "    d1 = load(f_in1)[\"data\"]\n",
    "    #f1 is id1n to cancer categ dict\n",
    "    #d1: key:id1n, cancer categ\n",
    "    # println(d1)\n",
    "    \n",
    "    d2 = load(f_in2)[\"data\"]\n",
    "    #d2: key:id1n, value = dict(ym:cost)\n",
    "    # println(d2)\n",
    "    d_cancer_ym_cost = Dict{String, Dict}()\n",
    "    d_cancer_ym_count = Dict{String, Dict}()\n",
    "    e = Dict{String, Any}()\n",
    "    # break\n",
    "    for (k,d_ym_cost) in d2\n",
    "        cancer_categ = d1[k]\n",
    "        if !haskey(d_cancer_ym_cost, cancer_categ)\n",
    "            d_cancer_ym_cost[cancer_categ] = copy(d_ym)\n",
    "            d_cancer_ym_count[cancer_categ] = copy(d_ym)\n",
    "        end        \n",
    "        \n",
    "        # v2 = d2[k]\n",
    "        for (ym, cost) in d_ym_cost\n",
    "            d_cancer_ym_cost[cancer_categ][ym] += cost\n",
    "            d_cancer_ym_count[cancer_categ][ym] += 1\n",
    "        #     e2 = copy(e)\n",
    "        #     e2[\"\"] = k\n",
    "        #     e2[\"ym\"] = ym\n",
    "        #     e2[\"cost\"] = cost\n",
    "        # # push!(df_whole, e)\n",
    "        #     push!(l_each, e2)\n",
    "        # # push!(l_whole, e)\n",
    "        end\n",
    "        # d_id2c[k] = main_dis\n",
    "        # l_whole.append(e)\n",
    "        # break\n",
    "    end\n",
    "\n",
    "    l_each = []\n",
    "    e = Dict{String, Any}()\n",
    "    for (cancer, d_ym_cost) in d_cancer_ym_cost\n",
    "        for (ym, cost) in d_ym_cost\n",
    "            e2 = copy(e)\n",
    "            e2[\"cost\"] = cost\n",
    "            e2[\"ym\"] = ym\n",
    "            e2[\"cancer\"] = cancer\n",
    "            e2[\"db\"] = f\n",
    "            e2[\"count\"] = d_cancer_ym_count[cancer][ym]\n",
    "            push!(l_each, e2)\n",
    "        end\n",
    "    end\n",
    "    \n",
    "    df_i = DataFrame(l_each)\n",
    "    CSV.write(f_out_c, df_i)\n",
    "    # l_each = []\n",
    "    # save(f_out,\"data\", d_id2c)\n",
    "    # # break\n",
    "    # return 0\n",
    "end\n"
   ]
  },
  {
   "cell_type": "code",
   "execution_count": 13,
   "id": "720bfbdb-c021-4d10-91db-a73b918e40b8",
   "metadata": {},
   "outputs": [],
   "source": [
    "# d1"
   ]
  },
  {
   "cell_type": "code",
   "execution_count": 14,
   "id": "bc258460-321f-4c09-9a57-97e78281a32c",
   "metadata": {},
   "outputs": [],
   "source": [
    "# d2"
   ]
  },
  {
   "cell_type": "code",
   "execution_count": 15,
   "id": "fa839115-3ca9-487b-a68d-bf5541ff93f1",
   "metadata": {},
   "outputs": [],
   "source": [
    "@everywhere function smr_smr_for_cost(f)\n",
    "    println(f)\n",
    "    d_ym, d_ymd = gen_ymd_dict()\n",
    "    f_in1 = \"../../../storage/d_id1c/id1ns_d_\"*f*\".jld2\"\n",
    "    f_in2 = \"../../../storage/smr_tabl/smr_tbl_cost_\"*f*\".jld2\"\n",
    "    f_out_c = \"../../../storage/d_id1c/id1ns_smr_cost_\"*f*\".csv\"\n",
    "    println(f_in1)\n",
    "    println(f_in2)\n",
    "    println(f_out_c)\n",
    "    \n",
    "    d1 = load(f_in1)[\"data\"]\n",
    "    d2 = load(f_in2)[\"data\"]\n",
    "    #d2: key:id1n, value = dict(ym:cost)\n",
    "    # println(d2)\n",
    "    d_cancer_ym_cost = Dict{String, Dict}()\n",
    "    d_cancer_ym_count = Dict{String, Dict}()\n",
    "    e = Dict{String, Any}()\n",
    "    # break\n",
    "    for (k,d_ym_cost) in d2\n",
    "        cancer_categ = d1[k]\n",
    "        if !haskey(d_cancer_ym_cost, cancer_categ)\n",
    "            d_cancer_ym_cost[cancer_categ] = copy(d_ym)\n",
    "            d_cancer_ym_count[cancer_categ] = copy(d_ym)\n",
    "        end        \n",
    "        \n",
    "        # v2 = d2[k]\n",
    "        for (ym, cost) in d_ym_cost\n",
    "            d_cancer_ym_cost[cancer_categ][ym] += cost\n",
    "            d_cancer_ym_count[cancer_categ][ym] += 1\n",
    "        end\n",
    "    end\n",
    "\n",
    "    l_each = []\n",
    "    e = Dict{String, Any}()\n",
    "    for (cancer, d_ym_cost) in d_cancer_ym_cost\n",
    "        for (ym, cost) in d_ym_cost\n",
    "            e2 = deepcopy(e)\n",
    "            e2[\"cost\"] = deepcost\n",
    "            e2[\"ym\"] = ym\n",
    "            e2[\"cancer\"] = cancer\n",
    "            e2[\"db\"] = f\n",
    "            e2[\"count\"] = d_cancer_ym_count[cancer][ym]\n",
    "            push!(l_each, e2)\n",
    "        end\n",
    "    end\n",
    "    \n",
    "    df_i = DataFrame(l_each)\n",
    "    CSV.write(f_out_c, df_i)\n",
    "    return 0\n",
    "end"
   ]
  },
  {
   "cell_type": "code",
   "execution_count": null,
   "id": "b6444ee4-06bd-4baa-9d43-6d24f1d4c1bf",
   "metadata": {},
   "outputs": [],
   "source": []
  },
  {
   "cell_type": "code",
   "execution_count": null,
   "id": "3033c26d-0df1-46ad-ada7-180c229b6bf7",
   "metadata": {},
   "outputs": [
    {
     "name": "stdout",
     "output_type": "stream",
     "text": [
      "      From worker 4:\ts_064\n",
      "      From worker 4:\tbase dicts generated\n",
      "      From worker 4:\t../../../storage/d_id1c/id1ns_d_s_064.jld2\n",
      "      From worker 4:\t../../../storage/smr_tabl/smr_tbl_cost_s_064.jld2\n",
      "      From worker 4:\t../../../storage/d_id1c/id1ns_smr_cost_s_064.csv\n",
      "      From worker 3:\ts_032\n",
      "      From worker 3:\tbase dicts generated\n",
      "      From worker 3:\t../../../storage/d_id1c/id1ns_d_s_032.jld2\n",
      "      From worker 3:\t../../../storage/smr_tabl/smr_tbl_cost_s_032.jld2\n",
      "      From worker 3:\t../../../storage/d_id1c/id1ns_smr_cost_s_032.csv\n",
      "      From worker 6:\ts_128\n",
      "      From worker 6:\tbase dicts generated\n",
      "      From worker 6:\t../../../storage/d_id1c/id1ns_d_s_128.jld2\n",
      "      From worker 6:\t../../../storage/smr_tabl/smr_tbl_cost_s_128.jld2\n",
      "      From worker 6:\t../../../storage/d_id1c/id1ns_smr_cost_s_128.csv\n",
      "      From worker 2:\ts_000\n",
      "      From worker 2:\tbase dicts generated\n",
      "      From worker 2:\t../../../storage/d_id1c/id1ns_d_s_000.jld2\n",
      "      From worker 2:\t../../../storage/smr_tabl/smr_tbl_cost_s_000.jld2\n",
      "      From worker 2:\t../../../storage/d_id1c/id1ns_smr_cost_s_000.csv\n",
      "      From worker 7:\ts_160\n",
      "      From worker 7:\tbase dicts generated\n",
      "      From worker 7:\t../../../storage/d_id1c/id1ns_d_s_160.jld2\n",
      "      From worker 7:\t../../../storage/smr_tabl/smr_tbl_cost_s_160.jld2\n",
      "      From worker 7:\t../../../storage/d_id1c/id1ns_smr_cost_s_160.csv\n",
      "      From worker 9:\ts_224\n",
      "      From worker 9:\tbase dicts generated\n",
      "      From worker 9:\t../../../storage/d_id1c/id1ns_d_s_224.jld2\n",
      "      From worker 9:\t../../../storage/smr_tabl/smr_tbl_cost_s_224.jld2\n",
      "      From worker 9:\t../../../storage/d_id1c/id1ns_smr_cost_s_224.csv\n",
      "      From worker 5:\ts_096\n",
      "      From worker 5:\tbase dicts generated\n",
      "      From worker 5:\t../../../storage/d_id1c/id1ns_d_s_096.jld2\n",
      "      From worker 5:\t../../../storage/smr_tabl/smr_tbl_cost_s_096.jld2\n",
      "      From worker 5:\t../../../storage/d_id1c/id1ns_smr_cost_s_096.csv\n",
      "      From worker 8:\ts_192\n",
      "      From worker 8:\tbase dicts generated\n",
      "      From worker 8:\t../../../storage/d_id1c/id1ns_d_s_192.jld2\n",
      "      From worker 8:\t../../../storage/smr_tabl/smr_tbl_cost_s_192.jld2\n",
      "      From worker 8:\t../../../storage/d_id1c/id1ns_smr_cost_s_192.csv\n"
     ]
    }
   ],
   "source": [
    "results = @distributed (+) for dbi in dbs\n",
    "    # [250:256]\n",
    "    # get_d(dbxs)\n",
    "    smr_smr_for_cost(dbi)\n",
    "    \n",
    "    # println(dbxs)\n",
    "end"
   ]
  },
  {
   "cell_type": "code",
   "execution_count": null,
   "id": "cd4b054e-99d4-4d5b-ae52-c10ed596eb4a",
   "metadata": {},
   "outputs": [],
   "source": [
    "results"
   ]
  },
  {
   "cell_type": "code",
   "execution_count": null,
   "id": "749df7c0-9e62-491d-8657-9ca1929e6924",
   "metadata": {},
   "outputs": [],
   "source": []
  },
  {
   "cell_type": "code",
   "execution_count": null,
   "id": "2dd03827-c192-4b65-9068-f95ca66191b6",
   "metadata": {},
   "outputs": [],
   "source": []
  },
  {
   "cell_type": "code",
   "execution_count": null,
   "id": "cd01eea1-7cef-409c-b0df-a917e9af5d12",
   "metadata": {},
   "outputs": [],
   "source": []
  },
  {
   "cell_type": "code",
   "execution_count": null,
   "id": "17ded59d-1d79-4980-9e9b-205a66c078f5",
   "metadata": {},
   "outputs": [],
   "source": []
  },
  {
   "cell_type": "code",
   "execution_count": null,
   "id": "3c47fa10-9bcf-49b4-b7bd-363b95d01476",
   "metadata": {},
   "outputs": [],
   "source": [
    "kokomade"
   ]
  },
  {
   "cell_type": "code",
   "execution_count": null,
   "id": "662286dc-4981-476e-a500-7bbbb45fa839",
   "metadata": {},
   "outputs": [],
   "source": []
  },
  {
   "cell_type": "code",
   "execution_count": null,
   "id": "3c1be9f2-74cd-47ea-931c-5fb092793a8e",
   "metadata": {},
   "outputs": [],
   "source": []
  }
 ],
 "metadata": {
  "kernelspec": {
   "display_name": "Julia 1.8.5",
   "language": "julia",
   "name": "julia-1.8"
  },
  "language_info": {
   "file_extension": ".jl",
   "mimetype": "application/julia",
   "name": "julia",
   "version": "1.8.5"
  }
 },
 "nbformat": 4,
 "nbformat_minor": 5
}
