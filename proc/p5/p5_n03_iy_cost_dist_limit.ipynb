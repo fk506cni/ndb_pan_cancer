{
 "cells": [
  {
   "cell_type": "code",
   "execution_count": 1,
   "id": "9e7181c6-d89a-44a8-b225-09c4e65cc91a",
   "metadata": {},
   "outputs": [
    {
     "data": {
      "text/plain": [
       "1"
      ]
     },
     "execution_count": 1,
     "metadata": {},
     "output_type": "execute_result"
    }
   ],
   "source": [
    "1"
   ]
  },
  {
   "cell_type": "markdown",
   "id": "6680cd74-ffa2-4958-b5bf-ea4e43af82d7",
   "metadata": {},
   "source": [
    "calc total point \n",
    "from p4 j03 sumr tablation funcin usage iy"
   ]
  },
  {
   "cell_type": "code",
   "execution_count": 2,
   "id": "749df7c0-9e62-491d-8657-9ca1929e6924",
   "metadata": {},
   "outputs": [],
   "source": [
    "using JSON\n",
    "using DataFrames\n",
    "using DataFramesMeta\n",
    "using Dates\n",
    "using JLD2\n",
    "using ShiftedArrays\n",
    "using OrderedCollections\n",
    "using CSV"
   ]
  },
  {
   "cell_type": "code",
   "execution_count": 3,
   "id": "2dd03827-c192-4b65-9068-f95ca66191b6",
   "metadata": {},
   "outputs": [
    {
     "data": {
      "text/plain": [
       "8-element Vector{String}:\n",
       " \"smr_tbl_cancer_iy_dict_s_000_32_dpfix.jld2\"\n",
       " \"smr_tbl_cancer_iy_dict_s_001_32_dpfix.jld2\"\n",
       " \"smr_tbl_cancer_iy_dict_s_002_32_dpfix.jld2\"\n",
       " \"smr_tbl_cancer_iy_dict_s_003_32_dpfix.jld2\"\n",
       " \"smr_tbl_cancer_iy_dict_s_004_32_dpfix.jld2\"\n",
       " \"smr_tbl_cancer_iy_dict_s_005_32_dpfix.jld2\"\n",
       " \"smr_tbl_cancer_iy_dict_s_006_32_dpfix.jld2\"\n",
       " \"smr_tbl_cancer_iy_dict_s_007_32_dpfix.jld2\""
      ]
     },
     "execution_count": 3,
     "metadata": {},
     "output_type": "execute_result"
    }
   ],
   "source": [
    "# d_fs = \"../dicts/ndb_master_creation-main/output_iy/\"\n",
    "# d_fs = \"../../../storage/smr_iy_tabl_temp/\"\n",
    "d_fs = \"../../../storage/smr_iy_tabl_fix/\"\n",
    "fs = readdir(d_fs)\n",
    "fs"
   ]
  },
  {
   "cell_type": "code",
   "execution_count": null,
   "id": "3a05c754-7ba3-4fcd-984f-cadda1a35036",
   "metadata": {},
   "outputs": [],
   "source": []
  },
  {
   "cell_type": "code",
   "execution_count": 4,
   "id": "6882a849-5d73-4d01-ab84-8e39bee22977",
   "metadata": {},
   "outputs": [
    {
     "data": {
      "text/plain": [
       "1006"
      ]
     },
     "execution_count": 4,
     "metadata": {},
     "output_type": "execute_result"
    }
   ],
   "source": [
    "f_iy = \"../dicts/Jm01_dis_parse/dfmeta_iy_20231122_150053_929635.csv\"\n",
    "df_iy = @chain CSV.read(f_iy, header=1,types=Dict(\"c2\"=>String), DataFrame) begin\n",
    "    @transform(:yj2 = first.(:c31, 2))\n",
    "    @subset(in.(:yj2, Ref([\"42\", \"43\"])))\n",
    "    # @subset(in.(:c2, Ref([\"662450004\"])))\n",
    "    # @subset(:c2 == \"662450004\")\n",
    "end\n",
    "\n",
    "const c2_limit = Set(df_iy[!, \"c2\"])\n",
    "length(c2_limit)"
   ]
  },
  {
   "cell_type": "code",
   "execution_count": 5,
   "id": "95da5d35-3978-4bf6-b30c-89340581ef74",
   "metadata": {},
   "outputs": [
    {
     "data": {
      "text/plain": [
       "true"
      ]
     },
     "execution_count": 5,
     "metadata": {},
     "output_type": "execute_result"
    }
   ],
   "source": [
    "\"620003762\" in c2_limit"
   ]
  },
  {
   "cell_type": "code",
   "execution_count": 6,
   "id": "ebcae1c5-6930-4a65-82c6-dac577464024",
   "metadata": {},
   "outputs": [
    {
     "data": {
      "text/plain": [
       "Dict{String, Any} with 2 entries:\n",
       "  \"point\" => 13.1\n",
       "  \"tag\"   => \"aes\""
      ]
     },
     "execution_count": 6,
     "metadata": {},
     "output_type": "execute_result"
    }
   ],
   "source": [
    "\n",
    "struct RangeDict\n",
    "    d_1st\n",
    "    d_dict\n",
    "    d_meta\n",
    "end\n",
    "\n",
    "\n",
    "function get_rd(self::RangeDict, dt)\n",
    "    # dt = Dates.Date(dt)\n",
    "    res = self.d_1st\n",
    "    for (k,v) in self.d_dict\n",
    "        if dt < k\n",
    "            break\n",
    "        else\n",
    "            res = copy(v)\n",
    "        end\n",
    "    end\n",
    "    return res\n",
    "end\n",
    "\n",
    "f_rd = \"../dicts/range_dict/range_dict_numkey.jld2\"\n",
    "rd_iy = load(f_rd)[\"data\"]\n",
    "get_rd(rd_iy[\"610406002\"], 20140312)"
   ]
  },
  {
   "cell_type": "code",
   "execution_count": null,
   "id": "5501c11b-4ffa-42b5-af04-599d6d9136dd",
   "metadata": {},
   "outputs": [],
   "source": []
  },
  {
   "cell_type": "code",
   "execution_count": 7,
   "id": "cd01eea1-7cef-409c-b0df-a917e9af5d12",
   "metadata": {},
   "outputs": [
    {
     "data": {
      "text/plain": [
       "gen_iy_dict (generic function with 1 method)"
      ]
     },
     "execution_count": 7,
     "metadata": {},
     "output_type": "execute_result"
    }
   ],
   "source": [
    "function gen_iy_dict()\n",
    "    d_ym = Dict{Int32, Float32}()\n",
    "    d_ymd = Dict{Int32, Float32}()\n",
    "    for y in 2011:2022\n",
    "        # println(string(y))\n",
    "        for m in 1:12\n",
    "            ym = string(y) * lpad(m, 2, \"0\")\n",
    "            d_ym[parse(Int32, ym)] = 0.0\n",
    "            # println(lpad(m, 2, \"0\"))\n",
    "            for d in 1:31\n",
    "                ymd = ym * lpad(d, 2, \"0\")\n",
    "                d_ymd[parse(Int32, ymd)] = 0.0\n",
    "                # println(lpad(d, 2, \"0\"))\n",
    "            end\n",
    "        end\n",
    "    end\n",
    "\n",
    "    f_iy = \"../dicts/Jm01_dis_parse/dfmeta_iy_20231122_150053_929635.csv\"\n",
    "    df_iy = @chain CSV.read(f_iy, header=1,types=Dict(\"c2\"=>String), DataFrame) begin\n",
    "                @transform(:yj2 = first.(:c31, 2))\n",
    "                @subset(in.(:yj2, Ref([\"42\", \"43\"])))\n",
    "            end\n",
    "    d_iy = Dict{String, Dict{Int32, Float32}}()\n",
    "    for r in eachrow(df_iy)\n",
    "        d_iy[r[\"c2\"]] = copy(d_ymd)\n",
    "    end\n",
    "    \n",
    "    \n",
    "    println(\"base dicts generated\")\n",
    "    return  d_ym, d_ymd, d_iy\n",
    "end"
   ]
  },
  {
   "cell_type": "code",
   "execution_count": 8,
   "id": "266e1815-896a-4df3-97ff-f4a021351e52",
   "metadata": {},
   "outputs": [
    {
     "name": "stdout",
     "output_type": "stream",
     "text": [
      "base dicts generated\n"
     ]
    }
   ],
   "source": [
    "d_ym, d_ymd, d_iy = gen_iy_dict()\n",
    "print(\"\")"
   ]
  },
  {
   "cell_type": "code",
   "execution_count": 9,
   "id": "17ded59d-1d79-4980-9e9b-205a66c078f5",
   "metadata": {},
   "outputs": [],
   "source": [
    "# d_iy"
   ]
  },
  {
   "cell_type": "code",
   "execution_count": 10,
   "id": "28f103df-c29d-4873-9928-c0fee3647b1c",
   "metadata": {},
   "outputs": [
    {
     "data": {
      "text/plain": [
       "Dict{String, Any} with 31892 entries:\n",
       "  \"620703401\" => RangeDict(Dict{String, Any}(\"point\"=>5.6, \"tag\"=>\"bdm\"), Order…\n",
       "  \"612430006\" => RangeDict(Dict{String, Any}(\"point\"=>9.6, \"tag\"=>\"bdm\"), Order…\n",
       "  \"612590038\" => RangeDict(Dict{String, Any}(\"point\"=>8.4, \"tag\"=>\"bdm\"), Order…\n",
       "  \"610406252\" => RangeDict(Dict{String, Any}(\"point\"=>9.9, \"tag\"=>\"bdm\"), Order…\n",
       "  \"610443003\" => RangeDict(Dict{String, Any}(\"point\"=>51.9, \"tag\"=>\"bdm\"), Orde…\n",
       "  \"620006319\" => RangeDict(Dict{String, Any}(\"point\"=>181.0, \"tag\"=>\"bdm\"), Ord…\n",
       "  \"620005051\" => RangeDict(Dict{String, Any}(\"point\"=>5.7, \"tag\"=>\"bdm\"), Order…\n",
       "  \"620004178\" => RangeDict(Dict{String, Any}(\"point\"=>92.0, \"tag\"=>\"bdm\"), Orde…\n",
       "  \"622533201\" => RangeDict(Dict{String, Any}(\"point\"=>873.0, \"tag\"=>\"bsl\"), Ord…\n",
       "  \"610412050\" => RangeDict(Dict{String, Any}(\"point\"=>22.1, \"tag\"=>\"bdm\"), Orde…\n",
       "  \"610412077\" => RangeDict(Dict{String, Any}(\"point\"=>6.2, \"tag\"=>\"bdm\"), Order…\n",
       "  \"615100573\" => RangeDict(Dict{String, Any}(\"point\"=>1.75, \"tag\"=>\"bdm\"), Orde…\n",
       "  \"622147503\" => RangeDict(Dict{String, Any}(\"point\"=>15.6, \"tag\"=>\"bsl\"), Orde…\n",
       "  \"622537801\" => RangeDict(Dict{String, Any}(\"point\"=>44.6, \"tag\"=>\"bsl\"), Orde…\n",
       "  \"622604301\" => RangeDict(Dict{String, Any}(\"point\"=>209.7, \"tag\"=>\"bsl\"), Ord…\n",
       "  \"620555401\" => RangeDict(Dict{String, Any}(\"point\"=>40975.0, \"tag\"=>\"bsl\"), O…\n",
       "  \"610409126\" => RangeDict(Dict{String, Any}(\"point\"=>1.73, \"tag\"=>\"bdm\"), Orde…\n",
       "  \"621996801\" => RangeDict(Dict{String, Any}(\"point\"=>21.4, \"tag\"=>\"bdm\"), Orde…\n",
       "  \"622295201\" => RangeDict(Dict{String, Any}(\"point\"=>268.9, \"tag\"=>\"bsl\"), Ord…\n",
       "  \"622771200\" => RangeDict(Dict{String, Any}(\"point\"=>55.7, \"tag\"=>\"bsl\"), Orde…\n",
       "  \"640463100\" => RangeDict(Dict{String, Any}(\"point\"=>218.0, \"tag\"=>\"bdm\"), Ord…\n",
       "  \"620008464\" => RangeDict(Dict{String, Any}(\"point\"=>40.4, \"tag\"=>\"bdm\"), Orde…\n",
       "  \"620468801\" => RangeDict(Dict{String, Any}(\"point\"=>5.6, \"tag\"=>\"bdm\"), Order…\n",
       "  \"622253301\" => RangeDict(Dict{String, Any}(\"point\"=>19.8, \"tag\"=>\"bsl\"), Orde…\n",
       "  \"622718700\" => RangeDict(Dict{String, Any}(\"point\"=>22.5, \"tag\"=>\"bsl\"), Orde…\n",
       "  ⋮           => ⋮"
      ]
     },
     "execution_count": 10,
     "metadata": {},
     "output_type": "execute_result"
    }
   ],
   "source": [
    "f_rdnk = \"../dicts/range_dict/range_dict_numkey.jld2\"\n",
    "rd_iy = load(f_rdnk)[\"data\"]"
   ]
  },
  {
   "cell_type": "code",
   "execution_count": 11,
   "id": "88950a38-3304-4262-8e60-a48d3ff13185",
   "metadata": {},
   "outputs": [],
   "source": [
    "\n",
    "# get_rd(rd_iy[\"611240417\"], 20140312)"
   ]
  },
  {
   "cell_type": "code",
   "execution_count": 12,
   "id": "f9ffe5ac-3317-432c-882a-b98a0bfc65d4",
   "metadata": {},
   "outputs": [],
   "source": [
    "# \"610406002\" "
   ]
  },
  {
   "cell_type": "code",
   "execution_count": 13,
   "id": "c42bbcf2-65ab-4e2f-b101-92e710cb26f3",
   "metadata": {},
   "outputs": [
    {
     "data": {
      "text/plain": [
       "Dict{String, Any} with 2 entries:\n",
       "  \"point\" => 13.1\n",
       "  \"tag\"   => \"aes\""
      ]
     },
     "execution_count": 13,
     "metadata": {},
     "output_type": "execute_result"
    }
   ],
   "source": [
    "get_rd(rd_iy[\"610406002\"], 20140312)"
   ]
  },
  {
   "cell_type": "code",
   "execution_count": 14,
   "id": "fe616945-976c-4c67-b2e4-a3f81067cfac",
   "metadata": {},
   "outputs": [],
   "source": [
    "# tmp_ = 0\n",
    "# d_use_whole_dose = Dict{String, Dict{String, Dict{Int32, Float32}}}()\n",
    "\n",
    "# for f in fs\n",
    "#     a = now()\n",
    "#     f2= d_fs*f\n",
    "#     println(f)\n",
    "#     d_ = load(f2)[\"data\"]\n",
    "#     # tmp_ = d_\n",
    "#     for (cancer, used_drugs) in d_\n",
    "#         if !haskey(d_use_whole_dose, cancer)\n",
    "#             # d_use_whole_dose[cancer] = Dict{String, Dict{Int32, Float32}}\n",
    "#             d_use_whole_dose[cancer] = deepcopy(d_iy)\n",
    "#         end\n",
    "#         for (drug_code, ymd_usage) in used_drugs\n",
    "#             if drug_code in c2_limit\n",
    "#                 for (ymd, usage) in ymd_usage\n",
    "#                     d_use_whole_dose[cancer][drug_code][ymd] += usage\n",
    "#                 end\n",
    "#             end\n",
    "#         end\n",
    "\n",
    "#     end\n",
    "#     # break\n",
    "#     b = now()\n",
    "#     print(\" time:\")\n",
    "#     println(canonicalize(b -a))    \n",
    "# end"
   ]
  },
  {
   "cell_type": "code",
   "execution_count": 15,
   "id": "68f3770f-1e11-453c-b16e-b23435c5be51",
   "metadata": {},
   "outputs": [],
   "source": [
    "# d_use_whole_dose"
   ]
  },
  {
   "cell_type": "code",
   "execution_count": 16,
   "id": "c1f67f6e-732d-4df7-933b-294ee7902eff",
   "metadata": {},
   "outputs": [
    {
     "data": {
      "text/plain": [
       "\"../../../storage/smr_iy_res/iy_cost_dict_limit_fix.jld2\""
      ]
     },
     "execution_count": 16,
     "metadata": {},
     "output_type": "execute_result"
    }
   ],
   "source": [
    "f_out =\"../../../storage/smr_iy_res/iy_cost_dict_limit_fix.jld2\"\n",
    "# save(f_out,\"data\", d_use_whole_dose)"
   ]
  },
  {
   "cell_type": "code",
   "execution_count": 17,
   "id": "da08fc27-3ec0-461a-8806-3282a27c4c84",
   "metadata": {},
   "outputs": [
    {
     "data": {
      "text/plain": [
       "Dict{String, Dict{String, Dict{Int32, Float32}}} with 63 entries:\n",
       "  \"Pancreas\"                          => Dict(\"620003762\"=>Dict(20110131=>0.0, …\n",
       "  \"Bone\"                              => Dict(\"620003762\"=>Dict(20110131=>0.0, …\n",
       "  \"Tongue\"                            => Dict(\"620003762\"=>Dict(20110131=>0.0, …\n",
       "  \"Lung (incl. trachea and bronchus)\" => Dict(\"620003762\"=>Dict(20110131=>0.0, …\n",
       "  \"Pharynx unspecified\"               => Dict(\"620003762\"=>Dict(20110131=>0.0, …\n",
       "  \"Lymphoid leukaemia\"                => Dict(\"620003762\"=>Dict(20110131=>0.0, …\n",
       "  \"Thyroid\"                           => Dict(\"620003762\"=>Dict(20110131=>0.0, …\n",
       "  \"Connective and soft tissue\"        => Dict(\"620003762\"=>Dict(20110131=>0.0, …\n",
       "  \"Vulva\"                             => Dict(\"620003762\"=>Dict(20110131=>0.0, …\n",
       "  \"Lip\"                               => Dict(\"620003762\"=>Dict(20110131=>0.0, …\n",
       "  \"Melanoma of skin\"                  => Dict(\"620003762\"=>Dict(20110131=>0.0, …\n",
       "  \"Other male genital organs\"         => Dict(\"620003762\"=>Dict(20110131=>0.0, …\n",
       "  \"Stomach\"                           => Dict(\"620003762\"=>Dict(20110131=>0.0, …\n",
       "  \"Other endocrine\"                   => Dict(\"620003762\"=>Dict(20110131=>0.0, …\n",
       "  \"Liver\"                             => Dict(\"620003762\"=>Dict(20110131=>0.0, …\n",
       "  \"Non-Hodgkin lymphoma\"              => Dict(\"620003762\"=>Dict(20110131=>0.0, …\n",
       "  \"Other urinary organs\"              => Dict(\"620003762\"=>Dict(20110131=>0.0, …\n",
       "  \"Prostate\"                          => Dict(\"620003762\"=>Dict(20110131=>0.0, …\n",
       "  \"Other female genital organs\"       => Dict(\"620003762\"=>Dict(20110131=>0.0, …\n",
       "  \"Hypopharynx\"                       => Dict(\"620003762\"=>Dict(20110131=>0.0, …\n",
       "  \"Salivary glands\"                   => Dict(\"620003762\"=>Dict(20110131=>0.0, …\n",
       "  \"Rectum\"                            => Dict(\"620003762\"=>Dict(20110131=>0.0, …\n",
       "  \"Leukaemia unspecified\"             => Dict(\"620003762\"=>Dict(20110131=>0.0, …\n",
       "  \"Corpus uteri\"                      => Dict(\"620003762\"=>Dict(20110131=>0.0, …\n",
       "  \"Cervix uteri\"                      => Dict(\"620003762\"=>Dict(20110131=>0.0, …\n",
       "  ⋮                                   => ⋮"
      ]
     },
     "execution_count": 17,
     "metadata": {},
     "output_type": "execute_result"
    }
   ],
   "source": [
    "d_use_whole_dose = load(f_out)[\"data\"]"
   ]
  },
  {
   "cell_type": "code",
   "execution_count": 18,
   "id": "d4e55567-620b-4053-b894-d2f2d6687b30",
   "metadata": {},
   "outputs": [
    {
     "name": "stdout",
     "output_type": "stream",
     "text": [
      "../../../storage/smr_iy_res/iy_cost_dict_limit_fix_Pancreas.csv\n",
      "../../../storage/smr_iy_res/iy_cost_dict_limit_fix_Bone.csv\n",
      "../../../storage/smr_iy_res/iy_cost_dict_limit_fix_Tongue.csv\n",
      "../../../storage/smr_iy_res/iy_cost_dict_limit_fix_Lung (incl. trachea and bronchus).csv\n",
      "../../../storage/smr_iy_res/iy_cost_dict_limit_fix_Pharynx unspecified.csv\n",
      "../../../storage/smr_iy_res/iy_cost_dict_limit_fix_Lymphoid leukaemia.csv\n",
      "../../../storage/smr_iy_res/iy_cost_dict_limit_fix_Thyroid.csv\n",
      "../../../storage/smr_iy_res/iy_cost_dict_limit_fix_Connective and soft tissue.csv\n",
      "../../../storage/smr_iy_res/iy_cost_dict_limit_fix_Vulva.csv\n",
      "../../../storage/smr_iy_res/iy_cost_dict_limit_fix_Lip.csv\n",
      "../../../storage/smr_iy_res/iy_cost_dict_limit_fix_Melanoma of skin.csv\n",
      "../../../storage/smr_iy_res/iy_cost_dict_limit_fix_Other male genital organs.csv\n",
      "../../../storage/smr_iy_res/iy_cost_dict_limit_fix_Stomach.csv\n",
      "../../../storage/smr_iy_res/iy_cost_dict_limit_fix_Other endocrine.csv\n",
      "../../../storage/smr_iy_res/iy_cost_dict_limit_fix_Liver.csv\n",
      "../../../storage/smr_iy_res/iy_cost_dict_limit_fix_Non-Hodgkin lymphoma.csv\n",
      "../../../storage/smr_iy_res/iy_cost_dict_limit_fix_Other urinary organs.csv\n",
      "../../../storage/smr_iy_res/iy_cost_dict_limit_fix_Prostate.csv\n",
      "../../../storage/smr_iy_res/iy_cost_dict_limit_fix_Other female genital organs.csv\n",
      "../../../storage/smr_iy_res/iy_cost_dict_limit_fix_Hypopharynx.csv\n",
      "../../../storage/smr_iy_res/iy_cost_dict_limit_fix_Salivary glands.csv\n",
      "../../../storage/smr_iy_res/iy_cost_dict_limit_fix_Rectum.csv\n",
      "../../../storage/smr_iy_res/iy_cost_dict_limit_fix_Leukaemia unspecified.csv\n",
      "../../../storage/smr_iy_res/iy_cost_dict_limit_fix_Corpus uteri.csv\n",
      "../../../storage/smr_iy_res/iy_cost_dict_limit_fix_Cervix uteri.csv\n",
      "../../../storage/smr_iy_res/iy_cost_dict_limit_fix_Myeloproliferative disorders.csv\n",
      "../../../storage/smr_iy_res/iy_cost_dict_limit_fix_Mesothelioma.csv\n",
      "../../../storage/smr_iy_res/iy_cost_dict_limit_fix_Gallbladder etc..csv\n",
      "../../../storage/smr_iy_res/iy_cost_dict_limit_fix_Hodgkin disease.csv\n",
      "../../../storage/smr_iy_res/iy_cost_dict_limit_fix_Mouth.csv\n",
      "../../../storage/smr_iy_res/iy_cost_dict_limit_fix_Vagina.csv\n",
      "../../../storage/smr_iy_res/iy_cost_dict_limit_fix_Bladder.csv\n",
      "../../../storage/smr_iy_res/iy_cost_dict_limit_fix_Nose, sinuses etc..csv\n",
      "../../../storage/smr_iy_res/iy_cost_dict_limit_fix_Multiple myeloma.csv\n",
      "../../../storage/smr_iy_res/iy_cost_dict_limit_fix_Penis.csv\n",
      "../../../storage/smr_iy_res/iy_cost_dict_limit_fix_Small intestine.csv\n",
      "../../../storage/smr_iy_res/iy_cost_dict_limit_fix_Adrenal gland.csv\n",
      "../../../storage/smr_iy_res/iy_cost_dict_limit_fix_Ureter.csv\n",
      "../../../storage/smr_iy_res/iy_cost_dict_limit_fix_Larynx.csv\n",
      "../../../storage/smr_iy_res/iy_cost_dict_limit_fix_Placenta.csv\n",
      "../../../storage/smr_iy_res/iy_cost_dict_limit_fix_Myeloid leukaemia.csv\n",
      "../../../storage/smr_iy_res/iy_cost_dict_limit_fix_Other and unspecified.csv\n",
      "../../../storage/smr_iy_res/iy_cost_dict_limit_fix_Other thoracic organs.csv\n",
      "../../../storage/smr_iy_res/iy_cost_dict_limit_fix_Uterus unspecified.csv\n",
      "../../../storage/smr_iy_res/iy_cost_dict_limit_fix_Kidney.csv\n",
      "../../../storage/smr_iy_res/iy_cost_dict_limit_fix_Brain, nervous system.csv\n",
      "../../../storage/smr_iy_res/iy_cost_dict_limit_fix_Kaposi sarcoma.csv\n",
      "../../../storage/smr_iy_res/iy_cost_dict_limit_fix_multiple.csv\n",
      "../../../storage/smr_iy_res/iy_cost_dict_limit_fix_Oesophagus.csv\n",
      "../../../storage/smr_iy_res/iy_cost_dict_limit_fix_Anus.csv\n",
      "../../../storage/smr_iy_res/iy_cost_dict_limit_fix_Testis.csv\n",
      "../../../storage/smr_iy_res/iy_cost_dict_limit_fix_Breast.csv\n",
      "../../../storage/smr_iy_res/iy_cost_dict_limit_fix_Eye.csv\n",
      "../../../storage/smr_iy_res/iy_cost_dict_limit_fix_NoCancers.csv\n",
      "../../../storage/smr_iy_res/iy_cost_dict_limit_fix_Other skin.csv\n",
      "../../../storage/smr_iy_res/iy_cost_dict_limit_fix_Colon.csv\n",
      "../../../storage/smr_iy_res/iy_cost_dict_limit_fix_Nasopharynx.csv\n",
      "../../../storage/smr_iy_res/iy_cost_dict_limit_fix_Ovary.csv\n",
      "../../../storage/smr_iy_res/iy_cost_dict_limit_fix_Immunoproliferative diseases.csv\n",
      "../../../storage/smr_iy_res/iy_cost_dict_limit_fix_Tonsil.csv\n",
      "../../../storage/smr_iy_res/iy_cost_dict_limit_fix_Renal pelvis.csv\n",
      "../../../storage/smr_iy_res/iy_cost_dict_limit_fix_Myelodysplastic syndromes.csv\n",
      "../../../storage/smr_iy_res/iy_cost_dict_limit_fix_Other oropharynx.csv\n"
     ]
    }
   ],
   "source": [
    "\n",
    "e = Dict{String, Any}()\n",
    "for (cancer, d_drug_ymd) in d_use_whole_dose\n",
    "    f_out_c = \"../../../storage/smr_iy_res/iy_cost_dict_limit_fix_\"*cancer*\".csv\"\n",
    "    println(f_out_c)\n",
    "    l_each = []\n",
    "    for (drugcode, d_ymd) in d_drug_ymd\n",
    "        for (ymd, dose) in d_ymd\n",
    "            e2 = deepcopy(e)\n",
    "            e2[\"ymd\"] = ymd\n",
    "            e2[\"cancer\"] = cancer\n",
    "            e2[\"drugcode\"] = drugcode\n",
    "            e2[\"use\"] = dose\n",
    "            e2[\"price\"] = get_rd(rd_iy[drugcode], ymd)[\"point\"]\n",
    "            push!(l_each, e2)\n",
    "        end\n",
    "    end\n",
    "    CSV.write(f_out_c, DataFrame(l_each))\n",
    "end\n",
    "\n"
   ]
  },
  {
   "cell_type": "code",
   "execution_count": null,
   "id": "68d05ace-d66d-4b2b-909f-6278c8d54c3d",
   "metadata": {},
   "outputs": [],
   "source": []
  },
  {
   "cell_type": "code",
   "execution_count": 19,
   "id": "791e2424-ec52-41a7-9637-6333d6e1b76b",
   "metadata": {},
   "outputs": [
    {
     "data": {
      "text/plain": [
       "1"
      ]
     },
     "execution_count": 19,
     "metadata": {},
     "output_type": "execute_result"
    }
   ],
   "source": [
    "1"
   ]
  },
  {
   "cell_type": "code",
   "execution_count": null,
   "id": "2f499147-43b4-49c4-9e3d-223cb1b3cd8e",
   "metadata": {},
   "outputs": [],
   "source": []
  },
  {
   "cell_type": "code",
   "execution_count": null,
   "id": "18a88b75-275b-4bd8-a125-292e6548e342",
   "metadata": {},
   "outputs": [],
   "source": []
  },
  {
   "cell_type": "code",
   "execution_count": null,
   "id": "3148370c-78b2-46a7-a8a5-85a7bea46bf5",
   "metadata": {},
   "outputs": [],
   "source": []
  },
  {
   "cell_type": "code",
   "execution_count": null,
   "id": "02821ccd-23c6-487e-84fe-bd6802e79d76",
   "metadata": {},
   "outputs": [],
   "source": [
    "kokomade"
   ]
  },
  {
   "cell_type": "code",
   "execution_count": null,
   "id": "18f07acd-6ebb-4b48-a5c1-dbee0e275b51",
   "metadata": {},
   "outputs": [],
   "source": []
  },
  {
   "cell_type": "code",
   "execution_count": null,
   "id": "a05cd41d-b4bd-4858-ba96-99eedfb0c63d",
   "metadata": {},
   "outputs": [],
   "source": []
  },
  {
   "cell_type": "code",
   "execution_count": null,
   "id": "3b985391-53ba-4d2c-9902-515a559d0cfc",
   "metadata": {},
   "outputs": [],
   "source": [
    "d_e = Dict{String, Any}()"
   ]
  },
  {
   "cell_type": "code",
   "execution_count": null,
   "id": "55beafee-62d6-43a4-b4f3-51821c748755",
   "metadata": {},
   "outputs": [],
   "source": [
    "# l_drugcode = []\n",
    "# l_cancer = []\n",
    "# l_ymd = []\n",
    "# l_dose = []\n",
    "# l_cost = []\n",
    "l_each = []\n",
    "\n",
    "for (cancer, used_drugs) in d_use_whole_dose\n",
    "    println(cancer)\n",
    "    a = now()\n",
    "    for (drug_code, ymd_usage) in used_drugs\n",
    "        for (ymd, usage) in ymd_usage\n",
    "            cost_per_unit = get_rd(rd_iy[drug_code], ymd)[\"point\"]\n",
    "            cost = cost_per_unit * usage\n",
    "            d_tmp = copy(d_e)\n",
    "            d_tmp[\"drug_code\"] = drug_code\n",
    "            d_tmp[\"cancer\"] = cancer\n",
    "            d_tmp[\"ymd\"] = ymd\n",
    "            d_tmp[\"usage\"] = usage\n",
    "            d_tmp[\"cost\"] = cost\n",
    "            d_tmp[\"cost_per_unit\"] = cost_per_unit\n",
    "            push!(l_each, d_tmp)\n",
    "        end\n",
    "    end\n",
    "    b = now()\n",
    "    print(\" time:\")\n",
    "    print(canonicalize(b -a))\n",
    "end\n"
   ]
  },
  {
   "cell_type": "code",
   "execution_count": null,
   "id": "44947673-5e9a-4c33-ba22-bffeacb81437",
   "metadata": {},
   "outputs": [],
   "source": [
    "f_out_c =  \"../../../storage/smr_iy_res/iy_tabl_cost.csv\"\n",
    "df_i = DataFrame(l_each)\n",
    "CSV.write(f_out_c, df_i)"
   ]
  },
  {
   "cell_type": "code",
   "execution_count": null,
   "id": "129bcfb7-0610-48f9-96e7-6e81ab3118ff",
   "metadata": {},
   "outputs": [],
   "source": [
    "# tmp_"
   ]
  },
  {
   "cell_type": "code",
   "execution_count": null,
   "id": "ad301a0d-1cbc-4876-a635-ca4843289023",
   "metadata": {},
   "outputs": [],
   "source": []
  },
  {
   "cell_type": "code",
   "execution_count": null,
   "id": "843a279a-65ce-4a10-a7cc-e10ed7b78376",
   "metadata": {},
   "outputs": [],
   "source": []
  },
  {
   "cell_type": "code",
   "execution_count": null,
   "id": "3c47fa10-9bcf-49b4-b7bd-363b95d01476",
   "metadata": {},
   "outputs": [],
   "source": [
    "# kokomade"
   ]
  },
  {
   "cell_type": "code",
   "execution_count": null,
   "id": "662286dc-4981-476e-a500-7bbbb45fa839",
   "metadata": {},
   "outputs": [],
   "source": []
  },
  {
   "cell_type": "code",
   "execution_count": null,
   "id": "3c1be9f2-74cd-47ea-931c-5fb092793a8e",
   "metadata": {},
   "outputs": [],
   "source": []
  },
  {
   "cell_type": "code",
   "execution_count": null,
   "id": "9c6d2328-4868-4fae-bb41-2b9f6ed7f04f",
   "metadata": {},
   "outputs": [],
   "source": [
    "# d"
   ]
  },
  {
   "cell_type": "code",
   "execution_count": null,
   "id": "e34d1585-76dd-4cff-b379-da20a3be1a00",
   "metadata": {},
   "outputs": [],
   "source": [
    "f_in = \"../../../storage/smr_tabl/smr_tbl_id1ns_s_000.jld2\"\n",
    "d = load(f_in)[\"data\"]"
   ]
  },
  {
   "cell_type": "code",
   "execution_count": null,
   "id": "9b638580-74b8-4b14-ad9e-fe5542ad2d16",
   "metadata": {},
   "outputs": [],
   "source": [
    "count = 0\n",
    "for (k,v) in d\n",
    "    count += 1\n",
    "    cs = v[\"cancers\"] |> (x -> keys(x)) |> (x ->collect(x)) |>  (x ->join(x, \"_\"))\n",
    "    print(cs)\n",
    "    \n",
    "    if count == 10\n",
    "        break\n",
    "    end\n",
    "end"
   ]
  },
  {
   "cell_type": "code",
   "execution_count": null,
   "id": "100f4cbb-8744-4a72-8d80-59137e6b21ed",
   "metadata": {},
   "outputs": [],
   "source": [
    "d"
   ]
  },
  {
   "cell_type": "code",
   "execution_count": null,
   "id": "265b8b10-bba3-47ac-9867-1d11ec30df09",
   "metadata": {},
   "outputs": [],
   "source": [
    "f_in = \"../../../storage/smr_tabl/smr_tbl_id1ns_s_000.jld2\"\n",
    "# f_in = \"../../../storage/d_id1c/id1ns_d_s_000.jld2\"\n",
    "d = load(f_in)[\"data\"]\n",
    "d_id2c = Dict{String, String}()"
   ]
  },
  {
   "cell_type": "code",
   "execution_count": null,
   "id": "2fd5f0b0-2686-4df4-86cd-535796bed57e",
   "metadata": {},
   "outputs": [],
   "source": [
    "# d\n",
    "for (k,e) in d\n",
    "    \n",
    "    d_c = pop!(e, \"main_cancer\")\n",
    "    # main_dis, dis_count = get_max_count(d_c)\n",
    "    e[\"main_cancer\"] = main_dis\n",
    "    e[\"main_dis_count\"] = dis_count\n",
    "    e[\"id1n\"] = k\n",
    "    println(e)\n",
    "    break\n",
    "end\n"
   ]
  },
  {
   "cell_type": "code",
   "execution_count": null,
   "id": "f68bbc93-5bd4-4a1d-b2a8-2071cf550bca",
   "metadata": {},
   "outputs": [],
   "source": []
  },
  {
   "cell_type": "code",
   "execution_count": null,
   "id": "c86e4c8f-deab-458e-a1e1-564ad918f02e",
   "metadata": {},
   "outputs": [],
   "source": []
  },
  {
   "cell_type": "code",
   "execution_count": null,
   "id": "85b17376-66b5-4698-a072-bc217b3ff57b",
   "metadata": {},
   "outputs": [],
   "source": []
  },
  {
   "cell_type": "code",
   "execution_count": null,
   "id": "a18e2850-d557-449c-94dd-10962c69a1bc",
   "metadata": {},
   "outputs": [],
   "source": []
  }
 ],
 "metadata": {
  "kernelspec": {
   "display_name": "Julia 1.8.5",
   "language": "julia",
   "name": "julia-1.8"
  },
  "language_info": {
   "file_extension": ".jl",
   "mimetype": "application/julia",
   "name": "julia",
   "version": "1.8.5"
  }
 },
 "nbformat": 4,
 "nbformat_minor": 5
}
