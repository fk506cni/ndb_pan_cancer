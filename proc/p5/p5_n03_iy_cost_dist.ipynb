{
 "cells": [
  {
   "cell_type": "code",
   "execution_count": 1,
   "id": "9e7181c6-d89a-44a8-b225-09c4e65cc91a",
   "metadata": {},
   "outputs": [
    {
     "data": {
      "text/plain": [
       "1"
      ]
     },
     "execution_count": 1,
     "metadata": {},
     "output_type": "execute_result"
    }
   ],
   "source": [
    "1"
   ]
  },
  {
   "cell_type": "markdown",
   "id": "6680cd74-ffa2-4958-b5bf-ea4e43af82d7",
   "metadata": {},
   "source": [
    "calc total point \n",
    "from p4 j03 sumr tablation funcin usage iy"
   ]
  },
  {
   "cell_type": "code",
   "execution_count": 1,
   "id": "749df7c0-9e62-491d-8657-9ca1929e6924",
   "metadata": {},
   "outputs": [],
   "source": [
    "using JSON\n",
    "using DataFrames\n",
    "using DataFramesMeta\n",
    "using Dates\n",
    "using JLD2\n",
    "using ShiftedArrays\n",
    "using OrderedCollections\n",
    "using CSV"
   ]
  },
  {
   "cell_type": "code",
   "execution_count": 2,
   "id": "2dd03827-c192-4b65-9068-f95ca66191b6",
   "metadata": {},
   "outputs": [
    {
     "data": {
      "text/plain": [
       "8-element Vector{String}:\n",
       " \"smr_tbl_cancer_iy_dict_s_000_32_dpfix.jld2\"\n",
       " \"smr_tbl_cancer_iy_dict_s_001_32_dpfix.jld2\"\n",
       " \"smr_tbl_cancer_iy_dict_s_002_32_dpfix.jld2\"\n",
       " \"smr_tbl_cancer_iy_dict_s_003_32_dpfix.jld2\"\n",
       " \"smr_tbl_cancer_iy_dict_s_004_32_dpfix.jld2\"\n",
       " \"smr_tbl_cancer_iy_dict_s_005_32_dpfix.jld2\"\n",
       " \"smr_tbl_cancer_iy_dict_s_006_32_dpfix.jld2\"\n",
       " \"smr_tbl_cancer_iy_dict_s_007_32_dpfix.jld2\""
      ]
     },
     "execution_count": 2,
     "metadata": {},
     "output_type": "execute_result"
    }
   ],
   "source": [
    "# d_fs = \"../dicts/ndb_master_creation-main/output_iy/\"\n",
    "# d_fs = \"../../../storage/smr_iy_tabl_temp/\"\n",
    "d_fs = \"../../../storage/smr_iy_tabl_fix/\"\n",
    "fs = readdir(d_fs)\n",
    "fs"
   ]
  },
  {
   "cell_type": "code",
   "execution_count": null,
   "id": "3a05c754-7ba3-4fcd-984f-cadda1a35036",
   "metadata": {},
   "outputs": [],
   "source": []
  },
  {
   "cell_type": "code",
   "execution_count": 4,
   "id": "6882a849-5d73-4d01-ab84-8e39bee22977",
   "metadata": {},
   "outputs": [
    {
     "name": "stderr",
     "output_type": "stream",
     "text": [
      "WARNING: redefinition of constant c2_limit. This may fail, cause incorrect answers, or produce other errors.\n"
     ]
    },
    {
     "data": {
      "text/plain": [
       "1006"
      ]
     },
     "execution_count": 4,
     "metadata": {},
     "output_type": "execute_result"
    }
   ],
   "source": [
    "f_iy = \"../dicts/Jm01_dis_parse/dfmeta_iy_20231122_150053_929635.csv\"\n",
    "df_iy = @chain CSV.read(f_iy, header=1,types=Dict(\"c2\"=>String), DataFrame) begin\n",
    "    @transform(:yj2 = first.(:c31, 2))\n",
    "    @subset(in.(:yj2, Ref([\"42\", \"43\"])))\n",
    "    # @subset(in.(:c2, Ref([\"662450004\"])))\n",
    "    # @subset(:c2 == \"662450004\")\n",
    "end\n",
    "\n",
    "const c2_limit = Set(df_iy[!, \"c2\"])\n",
    "length(c2_limit)"
   ]
  },
  {
   "cell_type": "code",
   "execution_count": 5,
   "id": "95da5d35-3978-4bf6-b30c-89340581ef74",
   "metadata": {},
   "outputs": [
    {
     "data": {
      "text/plain": [
       "true"
      ]
     },
     "execution_count": 5,
     "metadata": {},
     "output_type": "execute_result"
    }
   ],
   "source": [
    "\"620003762\" in c2_limit"
   ]
  },
  {
   "cell_type": "code",
   "execution_count": 6,
   "id": "ebcae1c5-6930-4a65-82c6-dac577464024",
   "metadata": {},
   "outputs": [
    {
     "data": {
      "text/plain": [
       "Dict{String, Any} with 2 entries:\n",
       "  \"point\" => 13.1\n",
       "  \"tag\"   => \"aes\""
      ]
     },
     "execution_count": 6,
     "metadata": {},
     "output_type": "execute_result"
    }
   ],
   "source": [
    "\n",
    "struct RangeDict\n",
    "    d_1st\n",
    "    d_dict\n",
    "    d_meta\n",
    "end\n",
    "\n",
    "\n",
    "function get_rd(self::RangeDict, dt)\n",
    "    # dt = Dates.Date(dt)\n",
    "    res = self.d_1st\n",
    "    for (k,v) in self.d_dict\n",
    "        if dt < k\n",
    "            break\n",
    "        else\n",
    "            res = copy(v)\n",
    "        end\n",
    "    end\n",
    "    return res\n",
    "end\n",
    "\n",
    "f_rd = \"../dicts/range_dict/range_dict_numkey.jld2\"\n",
    "rd_iy = load(f_rd)[\"data\"]\n",
    "get_rd(rd_iy[\"610406002\"], 20140312)"
   ]
  },
  {
   "cell_type": "code",
   "execution_count": null,
   "id": "5501c11b-4ffa-42b5-af04-599d6d9136dd",
   "metadata": {},
   "outputs": [],
   "source": []
  },
  {
   "cell_type": "code",
   "execution_count": 7,
   "id": "cd01eea1-7cef-409c-b0df-a917e9af5d12",
   "metadata": {},
   "outputs": [
    {
     "data": {
      "text/plain": [
       "gen_iy_dict (generic function with 1 method)"
      ]
     },
     "execution_count": 7,
     "metadata": {},
     "output_type": "execute_result"
    }
   ],
   "source": [
    "function gen_iy_dict()\n",
    "    d_ym = Dict{Int32, Float32}()\n",
    "    d_ymd = Dict{Int32, Float32}()\n",
    "    for y in 2011:2022\n",
    "        # println(string(y))\n",
    "        for m in 1:12\n",
    "            ym = string(y) * lpad(m, 2, \"0\")\n",
    "            d_ym[parse(Int32, ym)] = 0.0\n",
    "            # println(lpad(m, 2, \"0\"))\n",
    "            for d in 1:31\n",
    "                ymd = ym * lpad(d, 2, \"0\")\n",
    "                d_ymd[parse(Int32, ymd)] = 0.0\n",
    "                # println(lpad(d, 2, \"0\"))\n",
    "            end\n",
    "        end\n",
    "    end\n",
    "\n",
    "    f_iy = \"../dicts/Jm01_dis_parse/dfmeta_iy_20231122_150053_929635.csv\"\n",
    "    df_iy = @chain CSV.read(f_iy, header=1,types=Dict(\"c2\"=>String), DataFrame) begin\n",
    "            end\n",
    "    d_iy = Dict{String, Dict{Int32, Float32}}()\n",
    "    for r in eachrow(df_iy)\n",
    "        d_iy[r[\"c2\"]] = copy(d_ymd)\n",
    "    end\n",
    "    \n",
    "    \n",
    "    println(\"base dicts generated\")\n",
    "    return  d_ym, d_ymd, d_iy\n",
    "end"
   ]
  },
  {
   "cell_type": "code",
   "execution_count": 8,
   "id": "266e1815-896a-4df3-97ff-f4a021351e52",
   "metadata": {},
   "outputs": [
    {
     "name": "stdout",
     "output_type": "stream",
     "text": [
      "base dicts generated\n"
     ]
    }
   ],
   "source": [
    "d_ym, d_ymd, d_iy = gen_iy_dict()\n",
    "print(\"\")"
   ]
  },
  {
   "cell_type": "code",
   "execution_count": 9,
   "id": "17ded59d-1d79-4980-9e9b-205a66c078f5",
   "metadata": {},
   "outputs": [],
   "source": [
    "# d_iy"
   ]
  },
  {
   "cell_type": "code",
   "execution_count": 10,
   "id": "28f103df-c29d-4873-9928-c0fee3647b1c",
   "metadata": {},
   "outputs": [
    {
     "data": {
      "text/plain": [
       "Dict{String, Any} with 31892 entries:\n",
       "  \"620703401\" => RangeDict(Dict{String, Any}(\"point\"=>5.6, \"tag\"=>\"bdm\"), Order…\n",
       "  \"612430006\" => RangeDict(Dict{String, Any}(\"point\"=>9.6, \"tag\"=>\"bdm\"), Order…\n",
       "  \"612590038\" => RangeDict(Dict{String, Any}(\"point\"=>8.4, \"tag\"=>\"bdm\"), Order…\n",
       "  \"610406252\" => RangeDict(Dict{String, Any}(\"point\"=>9.9, \"tag\"=>\"bdm\"), Order…\n",
       "  \"610443003\" => RangeDict(Dict{String, Any}(\"point\"=>51.9, \"tag\"=>\"bdm\"), Orde…\n",
       "  \"620006319\" => RangeDict(Dict{String, Any}(\"point\"=>181.0, \"tag\"=>\"bdm\"), Ord…\n",
       "  \"620005051\" => RangeDict(Dict{String, Any}(\"point\"=>5.7, \"tag\"=>\"bdm\"), Order…\n",
       "  \"620004178\" => RangeDict(Dict{String, Any}(\"point\"=>92.0, \"tag\"=>\"bdm\"), Orde…\n",
       "  \"622533201\" => RangeDict(Dict{String, Any}(\"point\"=>873.0, \"tag\"=>\"bsl\"), Ord…\n",
       "  \"610412050\" => RangeDict(Dict{String, Any}(\"point\"=>22.1, \"tag\"=>\"bdm\"), Orde…\n",
       "  \"610412077\" => RangeDict(Dict{String, Any}(\"point\"=>6.2, \"tag\"=>\"bdm\"), Order…\n",
       "  \"615100573\" => RangeDict(Dict{String, Any}(\"point\"=>1.75, \"tag\"=>\"bdm\"), Orde…\n",
       "  \"622147503\" => RangeDict(Dict{String, Any}(\"point\"=>15.6, \"tag\"=>\"bsl\"), Orde…\n",
       "  \"622537801\" => RangeDict(Dict{String, Any}(\"point\"=>44.6, \"tag\"=>\"bsl\"), Orde…\n",
       "  \"622604301\" => RangeDict(Dict{String, Any}(\"point\"=>209.7, \"tag\"=>\"bsl\"), Ord…\n",
       "  \"620555401\" => RangeDict(Dict{String, Any}(\"point\"=>40975.0, \"tag\"=>\"bsl\"), O…\n",
       "  \"610409126\" => RangeDict(Dict{String, Any}(\"point\"=>1.73, \"tag\"=>\"bdm\"), Orde…\n",
       "  \"621996801\" => RangeDict(Dict{String, Any}(\"point\"=>21.4, \"tag\"=>\"bdm\"), Orde…\n",
       "  \"622295201\" => RangeDict(Dict{String, Any}(\"point\"=>268.9, \"tag\"=>\"bsl\"), Ord…\n",
       "  \"622771200\" => RangeDict(Dict{String, Any}(\"point\"=>55.7, \"tag\"=>\"bsl\"), Orde…\n",
       "  \"640463100\" => RangeDict(Dict{String, Any}(\"point\"=>218.0, \"tag\"=>\"bdm\"), Ord…\n",
       "  \"620008464\" => RangeDict(Dict{String, Any}(\"point\"=>40.4, \"tag\"=>\"bdm\"), Orde…\n",
       "  \"620468801\" => RangeDict(Dict{String, Any}(\"point\"=>5.6, \"tag\"=>\"bdm\"), Order…\n",
       "  \"622253301\" => RangeDict(Dict{String, Any}(\"point\"=>19.8, \"tag\"=>\"bsl\"), Orde…\n",
       "  \"622718700\" => RangeDict(Dict{String, Any}(\"point\"=>22.5, \"tag\"=>\"bsl\"), Orde…\n",
       "  ⋮           => ⋮"
      ]
     },
     "execution_count": 10,
     "metadata": {},
     "output_type": "execute_result"
    }
   ],
   "source": [
    "f_rdnk = \"../dicts/range_dict/range_dict_numkey.jld2\"\n",
    "rd_iy = load(f_rdnk)[\"data\"]"
   ]
  },
  {
   "cell_type": "code",
   "execution_count": 11,
   "id": "88950a38-3304-4262-8e60-a48d3ff13185",
   "metadata": {},
   "outputs": [],
   "source": [
    "\n",
    "# get_rd(rd_iy[\"611240417\"], 20140312)"
   ]
  },
  {
   "cell_type": "code",
   "execution_count": 12,
   "id": "f9ffe5ac-3317-432c-882a-b98a0bfc65d4",
   "metadata": {},
   "outputs": [],
   "source": [
    "# \"610406002\" "
   ]
  },
  {
   "cell_type": "code",
   "execution_count": 11,
   "id": "c42bbcf2-65ab-4e2f-b101-92e710cb26f3",
   "metadata": {},
   "outputs": [
    {
     "data": {
      "text/plain": [
       "Dict{String, Any} with 2 entries:\n",
       "  \"point\" => 13.1\n",
       "  \"tag\"   => \"aes\""
      ]
     },
     "execution_count": 11,
     "metadata": {},
     "output_type": "execute_result"
    }
   ],
   "source": [
    "get_rd(rd_iy[\"610406002\"], 20140312)"
   ]
  },
  {
   "cell_type": "code",
   "execution_count": 12,
   "id": "fe616945-976c-4c67-b2e4-a3f81067cfac",
   "metadata": {},
   "outputs": [
    {
     "name": "stdout",
     "output_type": "stream",
     "text": [
      "smr_tbl_cancer_iy_dict_s_000_32_dpfix.jld2\n",
      " time:5 minutes, 1 second, 841 milliseconds\n",
      "smr_tbl_cancer_iy_dict_s_001_32_dpfix.jld2\n",
      " time:4 minutes, 36 seconds, 208 milliseconds\n",
      "smr_tbl_cancer_iy_dict_s_002_32_dpfix.jld2\n",
      " time:4 minutes, 44 seconds, 939 milliseconds\n",
      "smr_tbl_cancer_iy_dict_s_003_32_dpfix.jld2\n",
      " time:4 minutes, 36 seconds, 150 milliseconds\n",
      "smr_tbl_cancer_iy_dict_s_004_32_dpfix.jld2\n",
      " time:4 minutes, 42 seconds, 936 milliseconds\n",
      "smr_tbl_cancer_iy_dict_s_005_32_dpfix.jld2\n",
      " time:4 minutes, 35 seconds, 464 milliseconds\n",
      "smr_tbl_cancer_iy_dict_s_006_32_dpfix.jld2\n",
      " time:4 minutes, 43 seconds, 26 milliseconds\n",
      "smr_tbl_cancer_iy_dict_s_007_32_dpfix.jld2\n",
      " time:4 minutes, 46 seconds, 112 milliseconds\n"
     ]
    }
   ],
   "source": [
    "# tmp_ = 0\n",
    "d_use_whole_dose = Dict{String, Dict{String, Dict{Int32, Float32}}}()\n",
    "\n",
    "for f in fs\n",
    "    a = now()\n",
    "    f2= d_fs*f\n",
    "    println(f)\n",
    "    d_ = load(f2)[\"data\"]\n",
    "    # tmp_ = d_\n",
    "    for (cancer, used_drugs) in d_\n",
    "        if !haskey(d_use_whole_dose, cancer)\n",
    "            # d_use_whole_dose[cancer] = Dict{String, Dict{Int32, Float32}}\n",
    "            d_use_whole_dose[cancer] = copy(d_iy)\n",
    "        end\n",
    "        for (drug_code, ymd_usage) in used_drugs\n",
    "            if drug_code in c2_limit\n",
    "                for (ymd, usage) in ymd_usage\n",
    "                    d_use_whole_dose[cancer][drug_code][ymd] += usage\n",
    "                end\n",
    "            end\n",
    "        end\n",
    "\n",
    "    end\n",
    "    # break\n",
    "    b = now()\n",
    "    print(\" time:\")\n",
    "    println(canonicalize(b -a))    \n",
    "end"
   ]
  },
  {
   "cell_type": "code",
   "execution_count": 13,
   "id": "68f3770f-1e11-453c-b16e-b23435c5be51",
   "metadata": {},
   "outputs": [
    {
     "data": {
      "text/plain": [
       "Dict{String, Dict{String, Dict{Int32, Float32}}} with 63 entries:\n",
       "  \"Bone\"                        => Dict(\"620703401\"=>Dict(20110131=>0.0, 201202…\n",
       "  \"Tongue\"                      => Dict(\"620703401\"=>Dict(20110131=>0.0, 201202…\n",
       "  \"Connective and soft tissue\"  => Dict(\"620703401\"=>Dict(20110131=>0.0, 201202…\n",
       "  \"Stomach\"                     => Dict(\"620703401\"=>Dict(20110131=>0.0, 201202…\n",
       "  \"Other endocrine\"             => Dict(\"620703401\"=>Dict(20110131=>0.0, 201202…\n",
       "  \"Liver\"                       => Dict(\"620703401\"=>Dict(20110131=>0.0, 201202…\n",
       "  \"Other urinary organs\"        => Dict(\"620703401\"=>Dict(20110131=>0.0, 201202…\n",
       "  \"Prostate\"                    => Dict(\"620703401\"=>Dict(20110131=>0.0, 201202…\n",
       "  \"Other female genital organs\" => Dict(\"620703401\"=>Dict(20110131=>0.0, 201202…\n",
       "  \"Hypopharynx\"                 => Dict(\"620703401\"=>Dict(20110131=>0.0, 201202…\n",
       "  \"Salivary glands\"             => Dict(\"620703401\"=>Dict(20110131=>0.0, 201202…\n",
       "  \"Leukaemia unspecified\"       => Dict(\"620703401\"=>Dict(20110131=>0.0, 201202…\n",
       "  \"Mesothelioma\"                => Dict(\"620703401\"=>Dict(20110131=>0.0, 201202…\n",
       "  \"Hodgkin disease\"             => Dict(\"620703401\"=>Dict(20110131=>0.0, 201202…\n",
       "  \"Nose, sinuses etc.\"          => Dict(\"620703401\"=>Dict(20110131=>0.0, 201202…\n",
       "  \"Multiple myeloma\"            => Dict(\"620703401\"=>Dict(20110131=>0.0, 201202…\n",
       "  \"Adrenal gland\"               => Dict(\"620703401\"=>Dict(20110131=>0.0, 201202…\n",
       "  \"Ureter\"                      => Dict(\"620703401\"=>Dict(20110131=>0.0, 201202…\n",
       "  \"Larynx\"                      => Dict(\"620703401\"=>Dict(20110131=>0.0, 201202…\n",
       "  \"Placenta\"                    => Dict(\"620703401\"=>Dict(20110131=>0.0, 201202…\n",
       "  \"Myeloid leukaemia\"           => Dict(\"620703401\"=>Dict(20110131=>0.0, 201202…\n",
       "  \"Other and unspecified\"       => Dict(\"620703401\"=>Dict(20110131=>0.0, 201202…\n",
       "  \"Uterus unspecified\"          => Dict(\"620703401\"=>Dict(20110131=>0.0, 201202…\n",
       "  \"Brain, nervous system\"       => Dict(\"620703401\"=>Dict(20110131=>0.0, 201202…\n",
       "  \"multiple\"                    => Dict(\"620703401\"=>Dict(20110131=>0.0, 201202…\n",
       "  ⋮                             => ⋮"
      ]
     },
     "execution_count": 13,
     "metadata": {},
     "output_type": "execute_result"
    }
   ],
   "source": [
    "d_use_whole_dose"
   ]
  },
  {
   "cell_type": "code",
   "execution_count": 14,
   "id": "c1f67f6e-732d-4df7-933b-294ee7902eff",
   "metadata": {},
   "outputs": [],
   "source": [
    "f_out =\"../../../storage/smr_iy_res/iy_cost_dict_whole_fix.jld2\"\n",
    "save(f_out,\"data\", d_use_whole_dose)"
   ]
  },
  {
   "cell_type": "code",
   "execution_count": null,
   "id": "d4e55567-620b-4053-b894-d2f2d6687b30",
   "metadata": {},
   "outputs": [],
   "source": []
  },
  {
   "cell_type": "code",
   "execution_count": null,
   "id": "68d05ace-d66d-4b2b-909f-6278c8d54c3d",
   "metadata": {},
   "outputs": [],
   "source": []
  },
  {
   "cell_type": "code",
   "execution_count": null,
   "id": "791e2424-ec52-41a7-9637-6333d6e1b76b",
   "metadata": {},
   "outputs": [],
   "source": []
  },
  {
   "cell_type": "code",
   "execution_count": null,
   "id": "2f499147-43b4-49c4-9e3d-223cb1b3cd8e",
   "metadata": {},
   "outputs": [],
   "source": []
  },
  {
   "cell_type": "code",
   "execution_count": null,
   "id": "18a88b75-275b-4bd8-a125-292e6548e342",
   "metadata": {},
   "outputs": [],
   "source": []
  },
  {
   "cell_type": "code",
   "execution_count": null,
   "id": "3148370c-78b2-46a7-a8a5-85a7bea46bf5",
   "metadata": {},
   "outputs": [],
   "source": []
  },
  {
   "cell_type": "code",
   "execution_count": null,
   "id": "02821ccd-23c6-487e-84fe-bd6802e79d76",
   "metadata": {},
   "outputs": [],
   "source": [
    "kokomade"
   ]
  }
 ],
 "metadata": {
  "kernelspec": {
   "display_name": "Julia 1.8.5",
   "language": "julia",
   "name": "julia-1.8"
  },
  "language_info": {
   "file_extension": ".jl",
   "mimetype": "application/julia",
   "name": "julia",
   "version": "1.8.5"
  }
 },
 "nbformat": 4,
 "nbformat_minor": 5
}
