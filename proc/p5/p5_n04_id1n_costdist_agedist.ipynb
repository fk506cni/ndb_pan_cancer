{
 "cells": [
  {
   "cell_type": "code",
   "execution_count": 5,
   "id": "9e7181c6-d89a-44a8-b225-09c4e65cc91a",
   "metadata": {},
   "outputs": [
    {
     "data": {
      "text/plain": [
       "1"
      ]
     },
     "execution_count": 5,
     "metadata": {},
     "output_type": "execute_result"
    }
   ],
   "source": [
    "1"
   ]
  },
  {
   "cell_type": "code",
   "execution_count": 6,
   "id": "5de2bd62-a366-421d-982c-362ebab0b962",
   "metadata": {},
   "outputs": [],
   "source": [
    "using JSON\n",
    "using JLD2\n",
    "using HDF5\n",
    "using Profile\n",
    "using Dates\n",
    "using Tables\n",
    "using DataFrames\n",
    "using DataFramesMeta\n",
    "using CSV\n",
    "using XLSX\n",
    "using BSON\n",
    "using Distributed\n",
    "using FileIO\n",
    "# using Printf"
   ]
  },
  {
   "cell_type": "code",
   "execution_count": 7,
   "id": "eaeba3db-cbb6-42b9-871f-50e2db82acc9",
   "metadata": {},
   "outputs": [
    {
     "data": {
      "text/plain": [
       "16-element Vector{String}:\n",
       " \"../../../storage/smr_age_cost/smr_tbl_cage_count_dict_s_000_16.jld2\"\n",
       " \"../../../storage/smr_age_cost/smr_tbl_cage_count_dict_s_001_16.jld2\"\n",
       " \"../../../storage/smr_age_cost/smr_tbl_cage_count_dict_s_002_16.jld2\"\n",
       " \"../../../storage/smr_age_cost/smr_tbl_cage_count_dict_s_003_16.jld2\"\n",
       " \"../../../storage/smr_age_cost/smr_tbl_cage_count_dict_s_004_16.jld2\"\n",
       " \"../../../storage/smr_age_cost/smr_tbl_cage_count_dict_s_005_16.jld2\"\n",
       " \"../../../storage/smr_age_cost/smr_tbl_cage_count_dict_s_006_16.jld2\"\n",
       " \"../../../storage/smr_age_cost/smr_tbl_cage_count_dict_s_007_16.jld2\"\n",
       " \"../../../storage/smr_age_cost/smr_tbl_cage_count_dict_s_008_16.jld2\"\n",
       " \"../../../storage/smr_age_cost/smr_tbl_cage_count_dict_s_009_16.jld2\"\n",
       " \"../../../storage/smr_age_cost/smr_tbl_cage_count_dict_s_010_16.jld2\"\n",
       " \"../../../storage/smr_age_cost/smr_tbl_cage_count_dict_s_011_16.jld2\"\n",
       " \"../../../storage/smr_age_cost/smr_tbl_cage_count_dict_s_012_16.jld2\"\n",
       " \"../../../storage/smr_age_cost/smr_tbl_cage_count_dict_s_013_16.jld2\"\n",
       " \"../../../storage/smr_age_cost/smr_tbl_cage_count_dict_s_014_16.jld2\"\n",
       " \"../../../storage/smr_age_cost/smr_tbl_cage_count_dict_s_015_16.jld2\""
      ]
     },
     "execution_count": 7,
     "metadata": {},
     "output_type": "execute_result"
    }
   ],
   "source": [
    "dbs = [\"s_\" * lpad(i, 3, '0') for i in 0:15]\n",
    "fs = [\n",
    "     \"../../../storage/smr_age_cost/smr_tbl_cage_cost_dict_\"*db*\"_16.jld2\" for db in dbs\n",
    "]\n",
    "fs2 = [\n",
    "     \"../../../storage/smr_age_cost/smr_tbl_cage_count_dict_\"*db*\"_16.jld2\" for db in dbs\n",
    "]"
   ]
  },
  {
   "cell_type": "code",
   "execution_count": 8,
   "id": "39b19e88-c0e8-4fbb-9df8-8ba44f8d29ab",
   "metadata": {},
   "outputs": [
    {
     "name": "stdout",
     "output_type": "stream",
     "text": [
      "../../../storage/smr_age_cost/smr_tbl_cage_cost_dict_s_000_16.jld2../../../storage/smr_age_cost/smr_tbl_cage_count_dict_s_000_16.jld2\n",
      "../../../storage/smr_age_cost/smr_tbl_cage_cost_dict_s_001_16.jld2../../../storage/smr_age_cost/smr_tbl_cage_count_dict_s_001_16.jld2\n",
      "../../../storage/smr_age_cost/smr_tbl_cage_cost_dict_s_002_16.jld2../../../storage/smr_age_cost/smr_tbl_cage_count_dict_s_002_16.jld2\n",
      "../../../storage/smr_age_cost/smr_tbl_cage_cost_dict_s_003_16.jld2../../../storage/smr_age_cost/smr_tbl_cage_count_dict_s_003_16.jld2\n",
      "../../../storage/smr_age_cost/smr_tbl_cage_cost_dict_s_004_16.jld2../../../storage/smr_age_cost/smr_tbl_cage_count_dict_s_004_16.jld2\n",
      "../../../storage/smr_age_cost/smr_tbl_cage_cost_dict_s_005_16.jld2../../../storage/smr_age_cost/smr_tbl_cage_count_dict_s_005_16.jld2\n",
      "../../../storage/smr_age_cost/smr_tbl_cage_cost_dict_s_006_16.jld2../../../storage/smr_age_cost/smr_tbl_cage_count_dict_s_006_16.jld2\n",
      "../../../storage/smr_age_cost/smr_tbl_cage_cost_dict_s_007_16.jld2../../../storage/smr_age_cost/smr_tbl_cage_count_dict_s_007_16.jld2\n",
      "../../../storage/smr_age_cost/smr_tbl_cage_cost_dict_s_008_16.jld2../../../storage/smr_age_cost/smr_tbl_cage_count_dict_s_008_16.jld2\n",
      "../../../storage/smr_age_cost/smr_tbl_cage_cost_dict_s_009_16.jld2../../../storage/smr_age_cost/smr_tbl_cage_count_dict_s_009_16.jld2\n",
      "../../../storage/smr_age_cost/smr_tbl_cage_cost_dict_s_010_16.jld2../../../storage/smr_age_cost/smr_tbl_cage_count_dict_s_010_16.jld2\n",
      "../../../storage/smr_age_cost/smr_tbl_cage_cost_dict_s_011_16.jld2../../../storage/smr_age_cost/smr_tbl_cage_count_dict_s_011_16.jld2\n",
      "../../../storage/smr_age_cost/smr_tbl_cage_cost_dict_s_012_16.jld2../../../storage/smr_age_cost/smr_tbl_cage_count_dict_s_012_16.jld2\n",
      "../../../storage/smr_age_cost/smr_tbl_cage_cost_dict_s_013_16.jld2../../../storage/smr_age_cost/smr_tbl_cage_count_dict_s_013_16.jld2\n",
      "../../../storage/smr_age_cost/smr_tbl_cage_cost_dict_s_014_16.jld2../../../storage/smr_age_cost/smr_tbl_cage_count_dict_s_014_16.jld2\n",
      "../../../storage/smr_age_cost/smr_tbl_cage_cost_dict_s_015_16.jld2../../../storage/smr_age_cost/smr_tbl_cage_count_dict_s_015_16.jld2\n"
     ]
    },
    {
     "data": {
      "text/plain": [
       "\"../../../storage/smr_age_cost/age_cost_smr.csv\""
      ]
     },
     "execution_count": 8,
     "metadata": {},
     "output_type": "execute_result"
    }
   ],
   "source": [
    "l = []\n",
    "df = DataFrame([[],[],[],[],[]], [\"totalpoint\", \"ym\", \"count\", \"cancer\", \"age\"])\n",
    "for (f1, f2) in zip(fs, fs2)\n",
    "    println(f1, f2)\n",
    "    d1 = load(f1)[\"data\"]\n",
    "    d2 = load(f2)[\"data\"]\n",
    "    for (cancer, d1_age) in d1\n",
    "        # println(cancer)\n",
    "        for (age, d1_ym) in d1_age\n",
    "            for (ym, cost) in d1_ym\n",
    "                e = Dict()\n",
    "                e[\"cancer\"]=cancer\n",
    "                e[\"age\"] = age\n",
    "                e[\"totalpoint\"] = cost\n",
    "                e[\"ym\"] = ym\n",
    "                e[\"count\"] = d2[cancer][age][ym]\n",
    "                # push!(l, e)\n",
    "                push!(df, e)\n",
    "            end\n",
    "        end\n",
    "    end\n",
    "end\n",
    "\n",
    "f_out_c = \"../../../storage/smr_age_cost/age_cost_smr.csv\"\n",
    "# df = DataFrame(l)\n",
    "CSV.write(f_out_c, df)"
   ]
  },
  {
   "cell_type": "code",
   "execution_count": null,
   "id": "5cfc140b-a073-4450-a516-9fb4742a61fb",
   "metadata": {},
   "outputs": [],
   "source": []
  },
  {
   "cell_type": "code",
   "execution_count": null,
   "id": "fd9e8c4c-334f-4743-8a4e-5e4f1159f52d",
   "metadata": {},
   "outputs": [],
   "source": []
  },
  {
   "cell_type": "code",
   "execution_count": null,
   "id": "6d8bcac3-2fce-43c1-8902-ea4c3c40dbcd",
   "metadata": {},
   "outputs": [],
   "source": []
  }
 ],
 "metadata": {
  "kernelspec": {
   "display_name": "Julia 1.8.5",
   "language": "julia",
   "name": "julia-1.8"
  },
  "language_info": {
   "file_extension": ".jl",
   "mimetype": "application/julia",
   "name": "julia",
   "version": "1.8.5"
  }
 },
 "nbformat": 4,
 "nbformat_minor": 5
}
