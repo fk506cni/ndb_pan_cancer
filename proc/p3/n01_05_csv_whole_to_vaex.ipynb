{
 "cells": [
  {
   "cell_type": "code",
   "execution_count": 1,
   "metadata": {},
   "outputs": [
    {
     "data": {
      "text/plain": [
       "1"
      ]
     },
     "execution_count": 1,
     "metadata": {},
     "output_type": "execute_result"
    }
   ],
   "source": [
    "1"
   ]
  },
  {
   "cell_type": "code",
   "execution_count": 2,
   "metadata": {},
   "outputs": [],
   "source": [
    "# import pymongo\n",
    "import datetime"
   ]
  },
  {
   "cell_type": "code",
   "execution_count": 3,
   "metadata": {},
   "outputs": [
    {
     "name": "stderr",
     "output_type": "stream",
     "text": [
      "/opt/conda/lib/python3.8/site-packages/dask/dataframe/utils.py:366: FutureWarning: pandas.Int64Index is deprecated and will be removed from pandas in a future version. Use pandas.Index with the appropriate dtype instead.\n",
      "  _numeric_index_types = (pd.Int64Index, pd.Float64Index, pd.UInt64Index)\n",
      "/opt/conda/lib/python3.8/site-packages/dask/dataframe/utils.py:366: FutureWarning: pandas.Float64Index is deprecated and will be removed from pandas in a future version. Use pandas.Index with the appropriate dtype instead.\n",
      "  _numeric_index_types = (pd.Int64Index, pd.Float64Index, pd.UInt64Index)\n",
      "/opt/conda/lib/python3.8/site-packages/dask/dataframe/utils.py:366: FutureWarning: pandas.UInt64Index is deprecated and will be removed from pandas in a future version. Use pandas.Index with the appropriate dtype instead.\n",
      "  _numeric_index_types = (pd.Int64Index, pd.Float64Index, pd.UInt64Index)\n"
     ]
    }
   ],
   "source": [
    "import glob\n",
    "import pandas as pd\n",
    "import numpy as np\n",
    "import os\n",
    "import joblib\n",
    "import json\n",
    "import pickle\n",
    "import gc\n",
    "from collections import defaultdict\n",
    "# from functools import reduce\n",
    "# import bz2\n",
    "import gzip\n",
    "import pathlib\n",
    "import dask.dataframe as dd\n",
    "import string"
   ]
  },
  {
   "cell_type": "code",
   "execution_count": 4,
   "metadata": {},
   "outputs": [],
   "source": [
    "import vaex"
   ]
  },
  {
   "cell_type": "code",
   "execution_count": 5,
   "metadata": {},
   "outputs": [],
   "source": [
    "def d2j(d, f):\n",
    "    with open(f, mode=\"wt\", encoding=\"utf-8\") as file:\n",
    "        json.dump(d, file, ensure_ascii=False, indent=2)\n",
    "    return 0\n",
    "        \n",
    "def f2d(f):\n",
    "    with open(f) as file:\n",
    "        d = json.load(file)\n",
    "    return d"
   ]
  },
  {
   "cell_type": "code",
   "execution_count": 6,
   "metadata": {},
   "outputs": [],
   "source": [
    "def d2jg(d, f):\n",
    "    with gzip.open(f, mode=\"wt\", encoding=\"utf-8\") as file:\n",
    "        json.dump(d, file, ensure_ascii=False, indent=2)\n",
    "    return 0\n",
    "\n",
    "def fg2d(f):\n",
    "    with gzip.open(f) as file:\n",
    "        d = json.load(file)\n",
    "    return d"
   ]
  },
  {
   "cell_type": "code",
   "execution_count": 7,
   "metadata": {},
   "outputs": [],
   "source": [
    "# def d2jz(d, f):\n",
    "#     with bz2.open(f, mode=\"wt\", encoding=\"utf-8\") as file:\n",
    "#         json.dump(d, file, ensure_ascii=False, indent=2)\n",
    "        \n",
    "# def fz2d(f):\n",
    "#     with bz2.open(f) as file:\n",
    "#         d = json.load(file)\n",
    "#     return d"
   ]
  },
  {
   "cell_type": "code",
   "execution_count": 8,
   "metadata": {},
   "outputs": [],
   "source": [
    "def d2p(d, f):\n",
    "    with open(f, mode=\"wb\") as handle:\n",
    "        pickle.dump(d, handle, protocol=pickle.HIGHEST_PROTOCOL)\n",
    "    return 0\n",
    "        \n",
    "def p2d(f):\n",
    "    with open(f, \"rb\") as handle:\n",
    "        d = pickle.load(handle)\n",
    "    return d"
   ]
  },
  {
   "cell_type": "code",
   "execution_count": 9,
   "metadata": {},
   "outputs": [
    {
     "name": "stdout",
     "output_type": "stream",
     "text": [
      "20231003_083542\n"
     ]
    }
   ],
   "source": [
    "nw = datetime.datetime.now()\n",
    "ts = nw.strftime(\"%Y%m%d_%H%M%S\")\n",
    "# ts = \"\"\n",
    "print(ts)"
   ]
  },
  {
   "cell_type": "code",
   "execution_count": 10,
   "metadata": {},
   "outputs": [],
   "source": [
    "# inc_list = [\"IY\", \"HO\",\"KO\",\"CD\", \"SI\", \"SY\", \"SB\", \"IR\", \"CZ\", \"SH\"]\n",
    "inc_list = [\"iy\", \"ho\", \"ko\", \"cd\", \"si\",\"to\", \"sy\", \"sb\", \"cz\", \"sh\", \"re\"]"
   ]
  },
  {
   "cell_type": "code",
   "execution_count": 11,
   "metadata": {},
   "outputs": [
    {
     "data": {
      "text/html": [
       "<div>\n",
       "<style scoped>\n",
       "    .dataframe tbody tr th:only-of-type {\n",
       "        vertical-align: middle;\n",
       "    }\n",
       "\n",
       "    .dataframe tbody tr th {\n",
       "        vertical-align: top;\n",
       "    }\n",
       "\n",
       "    .dataframe thead th {\n",
       "        text-align: right;\n",
       "    }\n",
       "</style>\n",
       "<table border=\"1\" class=\"dataframe\">\n",
       "  <thead>\n",
       "    <tr style=\"text-align: right;\">\n",
       "      <th></th>\n",
       "      <th>f</th>\n",
       "      <th>gp0</th>\n",
       "      <th>gp</th>\n",
       "      <th>file</th>\n",
       "      <th>scheme</th>\n",
       "      <th>tbl</th>\n",
       "      <th>ym</th>\n",
       "    </tr>\n",
       "  </thead>\n",
       "  <tbody>\n",
       "    <tr>\n",
       "      <th>0</th>\n",
       "      <td>../../../work/dat/dat/hdw050/202209-018/data/d...</td>\n",
       "      <td>t/hdw050/202209-018/data/dpc/bu/dpc_bu_201104_...</td>\n",
       "      <td>t/hdw0</td>\n",
       "      <td>dpc_bu_201104_000.csv</td>\n",
       "      <td>dpc</td>\n",
       "      <td>bu</td>\n",
       "      <td>201104</td>\n",
       "    </tr>\n",
       "    <tr>\n",
       "      <th>1</th>\n",
       "      <td>../../../work/dat/dat/hdw050/202209-018/data/d...</td>\n",
       "      <td>t/hdw050/202209-018/data/dpc/bu/dpc_bu_201105_...</td>\n",
       "      <td>t/hdw0</td>\n",
       "      <td>dpc_bu_201105_000.csv</td>\n",
       "      <td>dpc</td>\n",
       "      <td>bu</td>\n",
       "      <td>201105</td>\n",
       "    </tr>\n",
       "    <tr>\n",
       "      <th>2</th>\n",
       "      <td>../../../work/dat/dat/hdw050/202209-018/data/d...</td>\n",
       "      <td>t/hdw050/202209-018/data/dpc/bu/dpc_bu_201106_...</td>\n",
       "      <td>t/hdw0</td>\n",
       "      <td>dpc_bu_201106_000.csv</td>\n",
       "      <td>dpc</td>\n",
       "      <td>bu</td>\n",
       "      <td>201106</td>\n",
       "    </tr>\n",
       "    <tr>\n",
       "      <th>3</th>\n",
       "      <td>../../../work/dat/dat/hdw050/202209-018/data/d...</td>\n",
       "      <td>t/hdw050/202209-018/data/dpc/bu/dpc_bu_201107_...</td>\n",
       "      <td>t/hdw0</td>\n",
       "      <td>dpc_bu_201107_000.csv</td>\n",
       "      <td>dpc</td>\n",
       "      <td>bu</td>\n",
       "      <td>201107</td>\n",
       "    </tr>\n",
       "    <tr>\n",
       "      <th>4</th>\n",
       "      <td>../../../work/dat/dat/hdw050/202209-018/data/d...</td>\n",
       "      <td>t/hdw050/202209-018/data/dpc/bu/dpc_bu_201108_...</td>\n",
       "      <td>t/hdw0</td>\n",
       "      <td>dpc_bu_201108_000.csv</td>\n",
       "      <td>dpc</td>\n",
       "      <td>bu</td>\n",
       "      <td>201108</td>\n",
       "    </tr>\n",
       "  </tbody>\n",
       "</table>\n",
       "</div>"
      ],
      "text/plain": [
       "                                                   f  \\\n",
       "0  ../../../work/dat/dat/hdw050/202209-018/data/d...   \n",
       "1  ../../../work/dat/dat/hdw050/202209-018/data/d...   \n",
       "2  ../../../work/dat/dat/hdw050/202209-018/data/d...   \n",
       "3  ../../../work/dat/dat/hdw050/202209-018/data/d...   \n",
       "4  ../../../work/dat/dat/hdw050/202209-018/data/d...   \n",
       "\n",
       "                                                 gp0      gp  \\\n",
       "0  t/hdw050/202209-018/data/dpc/bu/dpc_bu_201104_...  t/hdw0   \n",
       "1  t/hdw050/202209-018/data/dpc/bu/dpc_bu_201105_...  t/hdw0   \n",
       "2  t/hdw050/202209-018/data/dpc/bu/dpc_bu_201106_...  t/hdw0   \n",
       "3  t/hdw050/202209-018/data/dpc/bu/dpc_bu_201107_...  t/hdw0   \n",
       "4  t/hdw050/202209-018/data/dpc/bu/dpc_bu_201108_...  t/hdw0   \n",
       "\n",
       "                    file scheme tbl      ym  \n",
       "0  dpc_bu_201104_000.csv    dpc  bu  201104  \n",
       "1  dpc_bu_201105_000.csv    dpc  bu  201105  \n",
       "2  dpc_bu_201106_000.csv    dpc  bu  201106  \n",
       "3  dpc_bu_201107_000.csv    dpc  bu  201107  \n",
       "4  dpc_bu_201108_000.csv    dpc  bu  201108  "
      ]
     },
     "execution_count": 11,
     "metadata": {},
     "output_type": "execute_result"
    }
   ],
   "source": [
    "# f_csv = \"../p3_dbcreation/df_csv20230630_083034.pkl\"\n",
    "f_csv = \"./df_csv_raw20230828_001100.pkl\"\n",
    "df_csv_ = pd.read_pickle(f_csv)\n",
    "# for g in df_csv:\n",
    "#     print(g)\n",
    "#     break\n",
    "df_csv_.head()"
   ]
  },
  {
   "cell_type": "code",
   "execution_count": null,
   "metadata": {},
   "outputs": [],
   "source": []
  },
  {
   "cell_type": "code",
   "execution_count": null,
   "metadata": {},
   "outputs": [],
   "source": []
  },
  {
   "cell_type": "code",
   "execution_count": 12,
   "metadata": {},
   "outputs": [],
   "source": [
    "def adc1(l):\n",
    "    #default exclusion\n",
    "    dflt_ex = [3,4]\n",
    "    for e in dflt_ex:        \n",
    "        if e not in l:\n",
    "            l.append(e)\n",
    "    \n",
    "    l = list(set(l))\n",
    "    l = sorted(l)\n",
    "    return [\"c\" + str(i) for i in l]\n",
    "#     return [\"c\" + str(i) for i in l] + [\"id1\"]\n",
    "\n",
    "def rn(st, en):\n",
    "    return [i for i in range(st, en+1)]\n",
    "\n",
    "\n",
    "d_drop = dict()\n",
    "#dpc\n",
    "d_drop[(\"dpc\", \"ir\")] = adc1(rn(9,13))\n",
    "d_drop[(\"dpc\", \"re\")] = adc1(rn(5,9)+rn(14,15)+rn(17, 24)+rn(27, 35)+[38])\n",
    "d_drop[(\"dpc\", \"ho\")] = adc1(rn(3,8))\n",
    "d_drop[(\"dpc\", \"ko\")] = adc1(rn(3,7))\n",
    "d_drop[(\"dpc\", \"sb\")] = adc1(rn(3,5) + [9, 13])\n",
    "d_drop[(\"dpc\", \"sy\")] = adc1(rn(3,5) + [11, 13])\n",
    "d_drop[(\"dpc\", \"sk\")] = adc1(rn(3,5) + [9, 11])\n",
    "d_drop[(\"dpc\", \"hh\")] = adc1(rn(3,5))\n",
    "d_drop[(\"dpc\", \"si\")] = adc1(rn(3,5) + rn(12, 48))\n",
    "d_drop[(\"dpc\", \"iy\")] = adc1(rn(3,5) + rn(12, 48))\n",
    "d_drop[(\"dpc\", \"to\")] = adc1(rn(3,5) + rn(12, 48))\n",
    "d_drop[(\"dpc\", \"cd\")] = adc1(rn(3,5) + [15])\n",
    "\n",
    "#med\n",
    "d_drop[(\"med\", \"ir\")] = adc1(rn(9,13))\n",
    "d_drop[(\"med\", \"re\")] = adc1(rn(5,9)+rn(14,27)+rn(29, 43)+[47])\n",
    "d_drop[(\"med\", \"ho\")] = adc1(rn(3,8))\n",
    "d_drop[(\"med\", \"ko\")] = adc1(rn(3,7))\n",
    "\n",
    "d_drop[(\"med\", \"sy\")] = adc1(rn(3,5) + [11, 14])\n",
    "\n",
    "d_drop[(\"med\", \"si\")] = adc1(rn(3,5) + rn(12, 53))\n",
    "d_drop[(\"med\", \"iy\")] = adc1(rn(3,5) + rn(12, 53))\n",
    "d_drop[(\"med\", \"to\")] = adc1(rn(3,5) + rn(13, 57))\n",
    "\n",
    "#pha\n",
    "d_drop[(\"pha\", \"yk\")] = adc1(rn(9,12))\n",
    "d_drop[(\"pha\", \"re\")] = adc1(rn(5,9)+rn(14,16)+[19]+[21]+[23]+[26]+[29])\n",
    "d_drop[(\"pha\", \"ho\")] = adc1(rn(3,8))\n",
    "d_drop[(\"pha\", \"ko\")] = adc1(rn(3,7))\n",
    "\n",
    "d_drop[(\"pha\", \"sh\")] = adc1(rn(3,5) + [9])\n",
    "d_drop[(\"pha\", \"cz\")] = adc1(rn(3,5) + rn(10, 48))\n",
    "d_drop[(\"pha\", \"iy\")] = adc1(rn(3,5))\n",
    "d_drop[(\"pha\", \"to\")] = adc1(rn(3,5))\n",
    "d_drop[(\"pha\", \"ki\")] = adc1(rn(3,5)+rn(8,113))\n",
    "# d_drop[(\"pha\", \"st\")] = adc1(rn(3,5))"
   ]
  },
  {
   "cell_type": "code",
   "execution_count": 13,
   "metadata": {},
   "outputs": [
    {
     "data": {
      "text/plain": [
       "{'dpc': ['ir',\n",
       "  're',\n",
       "  'ho',\n",
       "  'ko',\n",
       "  'sb',\n",
       "  'sy',\n",
       "  'sk',\n",
       "  'hh',\n",
       "  'si',\n",
       "  'iy',\n",
       "  'to',\n",
       "  'cd'],\n",
       " 'med': ['ir', 're', 'ho', 'ko', 'sy', 'si', 'iy', 'to'],\n",
       " 'pha': ['yk', 're', 'ho', 'ko', 'sh', 'cz', 'iy', 'to', 'ki']}"
      ]
     },
     "execution_count": 13,
     "metadata": {},
     "output_type": "execute_result"
    }
   ],
   "source": [
    "d_schm = {\n",
    "    \"dpc\":[],\n",
    "    \"med\":[],\n",
    "    \"pha\":[]\n",
    "}\n",
    "for k in d_drop.keys():\n",
    "    d_schm[k[0]].append(k[1])\n",
    "d_schm"
   ]
  },
  {
   "cell_type": "code",
   "execution_count": 14,
   "metadata": {},
   "outputs": [
    {
     "data": {
      "text/html": [
       "<div>\n",
       "<style scoped>\n",
       "    .dataframe tbody tr th:only-of-type {\n",
       "        vertical-align: middle;\n",
       "    }\n",
       "\n",
       "    .dataframe tbody tr th {\n",
       "        vertical-align: top;\n",
       "    }\n",
       "\n",
       "    .dataframe thead th {\n",
       "        text-align: right;\n",
       "    }\n",
       "</style>\n",
       "<table border=\"1\" class=\"dataframe\">\n",
       "  <thead>\n",
       "    <tr style=\"text-align: right;\">\n",
       "      <th></th>\n",
       "      <th>f</th>\n",
       "      <th>gp0</th>\n",
       "      <th>gp</th>\n",
       "      <th>file</th>\n",
       "      <th>scheme</th>\n",
       "      <th>tbl</th>\n",
       "      <th>ym</th>\n",
       "    </tr>\n",
       "  </thead>\n",
       "  <tbody>\n",
       "    <tr>\n",
       "      <th>132</th>\n",
       "      <td>../../../work/dat/dat/hdw050/202209-018/data/d...</td>\n",
       "      <td>t/hdw050/202209-018/data/dpc/cd/dpc_cd_201104_...</td>\n",
       "      <td>t/hdw0</td>\n",
       "      <td>dpc_cd_201104_000.csv</td>\n",
       "      <td>dpc</td>\n",
       "      <td>cd</td>\n",
       "      <td>201104</td>\n",
       "    </tr>\n",
       "    <tr>\n",
       "      <th>133</th>\n",
       "      <td>../../../work/dat/dat/hdw050/202209-018/data/d...</td>\n",
       "      <td>t/hdw050/202209-018/data/dpc/cd/dpc_cd_201104_...</td>\n",
       "      <td>t/hdw0</td>\n",
       "      <td>dpc_cd_201104_001.csv</td>\n",
       "      <td>dpc</td>\n",
       "      <td>cd</td>\n",
       "      <td>201104</td>\n",
       "    </tr>\n",
       "    <tr>\n",
       "      <th>134</th>\n",
       "      <td>../../../work/dat/dat/hdw050/202209-018/data/d...</td>\n",
       "      <td>t/hdw050/202209-018/data/dpc/cd/dpc_cd_201104_...</td>\n",
       "      <td>t/hdw0</td>\n",
       "      <td>dpc_cd_201104_002.csv</td>\n",
       "      <td>dpc</td>\n",
       "      <td>cd</td>\n",
       "      <td>201104</td>\n",
       "    </tr>\n",
       "    <tr>\n",
       "      <th>135</th>\n",
       "      <td>../../../work/dat/dat/hdw050/202209-018/data/d...</td>\n",
       "      <td>t/hdw050/202209-018/data/dpc/cd/dpc_cd_201105_...</td>\n",
       "      <td>t/hdw0</td>\n",
       "      <td>dpc_cd_201105_000.csv</td>\n",
       "      <td>dpc</td>\n",
       "      <td>cd</td>\n",
       "      <td>201105</td>\n",
       "    </tr>\n",
       "    <tr>\n",
       "      <th>136</th>\n",
       "      <td>../../../work/dat/dat/hdw050/202209-018/data/d...</td>\n",
       "      <td>t/hdw050/202209-018/data/dpc/cd/dpc_cd_201105_...</td>\n",
       "      <td>t/hdw0</td>\n",
       "      <td>dpc_cd_201105_001.csv</td>\n",
       "      <td>dpc</td>\n",
       "      <td>cd</td>\n",
       "      <td>201105</td>\n",
       "    </tr>\n",
       "  </tbody>\n",
       "</table>\n",
       "</div>"
      ],
      "text/plain": [
       "                                                     f  \\\n",
       "132  ../../../work/dat/dat/hdw050/202209-018/data/d...   \n",
       "133  ../../../work/dat/dat/hdw050/202209-018/data/d...   \n",
       "134  ../../../work/dat/dat/hdw050/202209-018/data/d...   \n",
       "135  ../../../work/dat/dat/hdw050/202209-018/data/d...   \n",
       "136  ../../../work/dat/dat/hdw050/202209-018/data/d...   \n",
       "\n",
       "                                                   gp0      gp  \\\n",
       "132  t/hdw050/202209-018/data/dpc/cd/dpc_cd_201104_...  t/hdw0   \n",
       "133  t/hdw050/202209-018/data/dpc/cd/dpc_cd_201104_...  t/hdw0   \n",
       "134  t/hdw050/202209-018/data/dpc/cd/dpc_cd_201104_...  t/hdw0   \n",
       "135  t/hdw050/202209-018/data/dpc/cd/dpc_cd_201105_...  t/hdw0   \n",
       "136  t/hdw050/202209-018/data/dpc/cd/dpc_cd_201105_...  t/hdw0   \n",
       "\n",
       "                      file scheme tbl      ym  \n",
       "132  dpc_cd_201104_000.csv    dpc  cd  201104  \n",
       "133  dpc_cd_201104_001.csv    dpc  cd  201104  \n",
       "134  dpc_cd_201104_002.csv    dpc  cd  201104  \n",
       "135  dpc_cd_201105_000.csv    dpc  cd  201105  \n",
       "136  dpc_cd_201105_001.csv    dpc  cd  201105  "
      ]
     },
     "execution_count": 14,
     "metadata": {},
     "output_type": "execute_result"
    }
   ],
   "source": [
    "tag = \"dpc\"\n",
    "l_tb = d_schm[tag]\n",
    "df_dpc = df_csv_\\\n",
    "    .query(\"scheme == @tag\")\\\n",
    "    .query(\"tbl in @l_tb\")\n",
    "df_dpc.head()"
   ]
  },
  {
   "cell_type": "code",
   "execution_count": 15,
   "metadata": {},
   "outputs": [
    {
     "data": {
      "text/html": [
       "<div>\n",
       "<style scoped>\n",
       "    .dataframe tbody tr th:only-of-type {\n",
       "        vertical-align: middle;\n",
       "    }\n",
       "\n",
       "    .dataframe tbody tr th {\n",
       "        vertical-align: top;\n",
       "    }\n",
       "\n",
       "    .dataframe thead th {\n",
       "        text-align: right;\n",
       "    }\n",
       "</style>\n",
       "<table border=\"1\" class=\"dataframe\">\n",
       "  <thead>\n",
       "    <tr style=\"text-align: right;\">\n",
       "      <th></th>\n",
       "      <th>f</th>\n",
       "      <th>gp0</th>\n",
       "      <th>gp</th>\n",
       "      <th>file</th>\n",
       "      <th>scheme</th>\n",
       "      <th>tbl</th>\n",
       "      <th>ym</th>\n",
       "    </tr>\n",
       "  </thead>\n",
       "  <tbody>\n",
       "    <tr>\n",
       "      <th>2318</th>\n",
       "      <td>../../../work/dat/dat/hdw050/202209-018/data/m...</td>\n",
       "      <td>t/hdw050/202209-018/data/med/ho/med_ho_201104_...</td>\n",
       "      <td>t/hdw0</td>\n",
       "      <td>med_ho_201104_000.csv</td>\n",
       "      <td>med</td>\n",
       "      <td>ho</td>\n",
       "      <td>201104</td>\n",
       "    </tr>\n",
       "    <tr>\n",
       "      <th>2319</th>\n",
       "      <td>../../../work/dat/dat/hdw050/202209-018/data/m...</td>\n",
       "      <td>t/hdw050/202209-018/data/med/ho/med_ho_201105_...</td>\n",
       "      <td>t/hdw0</td>\n",
       "      <td>med_ho_201105_000.csv</td>\n",
       "      <td>med</td>\n",
       "      <td>ho</td>\n",
       "      <td>201105</td>\n",
       "    </tr>\n",
       "    <tr>\n",
       "      <th>2320</th>\n",
       "      <td>../../../work/dat/dat/hdw050/202209-018/data/m...</td>\n",
       "      <td>t/hdw050/202209-018/data/med/ho/med_ho_201106_...</td>\n",
       "      <td>t/hdw0</td>\n",
       "      <td>med_ho_201106_000.csv</td>\n",
       "      <td>med</td>\n",
       "      <td>ho</td>\n",
       "      <td>201106</td>\n",
       "    </tr>\n",
       "    <tr>\n",
       "      <th>2321</th>\n",
       "      <td>../../../work/dat/dat/hdw050/202209-018/data/m...</td>\n",
       "      <td>t/hdw050/202209-018/data/med/ho/med_ho_201107_...</td>\n",
       "      <td>t/hdw0</td>\n",
       "      <td>med_ho_201107_000.csv</td>\n",
       "      <td>med</td>\n",
       "      <td>ho</td>\n",
       "      <td>201107</td>\n",
       "    </tr>\n",
       "    <tr>\n",
       "      <th>2322</th>\n",
       "      <td>../../../work/dat/dat/hdw050/202209-018/data/m...</td>\n",
       "      <td>t/hdw050/202209-018/data/med/ho/med_ho_201108_...</td>\n",
       "      <td>t/hdw0</td>\n",
       "      <td>med_ho_201108_000.csv</td>\n",
       "      <td>med</td>\n",
       "      <td>ho</td>\n",
       "      <td>201108</td>\n",
       "    </tr>\n",
       "  </tbody>\n",
       "</table>\n",
       "</div>"
      ],
      "text/plain": [
       "                                                      f  \\\n",
       "2318  ../../../work/dat/dat/hdw050/202209-018/data/m...   \n",
       "2319  ../../../work/dat/dat/hdw050/202209-018/data/m...   \n",
       "2320  ../../../work/dat/dat/hdw050/202209-018/data/m...   \n",
       "2321  ../../../work/dat/dat/hdw050/202209-018/data/m...   \n",
       "2322  ../../../work/dat/dat/hdw050/202209-018/data/m...   \n",
       "\n",
       "                                                    gp0      gp  \\\n",
       "2318  t/hdw050/202209-018/data/med/ho/med_ho_201104_...  t/hdw0   \n",
       "2319  t/hdw050/202209-018/data/med/ho/med_ho_201105_...  t/hdw0   \n",
       "2320  t/hdw050/202209-018/data/med/ho/med_ho_201106_...  t/hdw0   \n",
       "2321  t/hdw050/202209-018/data/med/ho/med_ho_201107_...  t/hdw0   \n",
       "2322  t/hdw050/202209-018/data/med/ho/med_ho_201108_...  t/hdw0   \n",
       "\n",
       "                       file scheme tbl      ym  \n",
       "2318  med_ho_201104_000.csv    med  ho  201104  \n",
       "2319  med_ho_201105_000.csv    med  ho  201105  \n",
       "2320  med_ho_201106_000.csv    med  ho  201106  \n",
       "2321  med_ho_201107_000.csv    med  ho  201107  \n",
       "2322  med_ho_201108_000.csv    med  ho  201108  "
      ]
     },
     "execution_count": 15,
     "metadata": {},
     "output_type": "execute_result"
    }
   ],
   "source": [
    "tag = \"med\"\n",
    "l_tb = d_schm[tag]\n",
    "df_med = df_csv_\\\n",
    "    .query(\"scheme == @tag\")\\\n",
    "    .query(\"tbl in @l_tb\")\n",
    "\n",
    "df_med.head()"
   ]
  },
  {
   "cell_type": "code",
   "execution_count": 16,
   "metadata": {},
   "outputs": [
    {
     "data": {
      "text/html": [
       "<div>\n",
       "<style scoped>\n",
       "    .dataframe tbody tr th:only-of-type {\n",
       "        vertical-align: middle;\n",
       "    }\n",
       "\n",
       "    .dataframe tbody tr th {\n",
       "        vertical-align: top;\n",
       "    }\n",
       "\n",
       "    .dataframe thead th {\n",
       "        text-align: right;\n",
       "    }\n",
       "</style>\n",
       "<table border=\"1\" class=\"dataframe\">\n",
       "  <thead>\n",
       "    <tr style=\"text-align: right;\">\n",
       "      <th></th>\n",
       "      <th>f</th>\n",
       "      <th>gp0</th>\n",
       "      <th>gp</th>\n",
       "      <th>file</th>\n",
       "      <th>scheme</th>\n",
       "      <th>tbl</th>\n",
       "      <th>ym</th>\n",
       "    </tr>\n",
       "  </thead>\n",
       "  <tbody>\n",
       "    <tr>\n",
       "      <th>4027</th>\n",
       "      <td>../../../work/dat/dat/hdw050/202209-018/data/p...</td>\n",
       "      <td>t/hdw050/202209-018/data/pha/cz/pha_cz_201104_...</td>\n",
       "      <td>t/hdw0</td>\n",
       "      <td>pha_cz_201104_000.csv</td>\n",
       "      <td>pha</td>\n",
       "      <td>cz</td>\n",
       "      <td>201104</td>\n",
       "    </tr>\n",
       "    <tr>\n",
       "      <th>4028</th>\n",
       "      <td>../../../work/dat/dat/hdw050/202209-018/data/p...</td>\n",
       "      <td>t/hdw050/202209-018/data/pha/cz/pha_cz_201104_...</td>\n",
       "      <td>t/hdw0</td>\n",
       "      <td>pha_cz_201104_001.csv</td>\n",
       "      <td>pha</td>\n",
       "      <td>cz</td>\n",
       "      <td>201104</td>\n",
       "    </tr>\n",
       "    <tr>\n",
       "      <th>4029</th>\n",
       "      <td>../../../work/dat/dat/hdw050/202209-018/data/p...</td>\n",
       "      <td>t/hdw050/202209-018/data/pha/cz/pha_cz_201104_...</td>\n",
       "      <td>t/hdw0</td>\n",
       "      <td>pha_cz_201104_002.csv</td>\n",
       "      <td>pha</td>\n",
       "      <td>cz</td>\n",
       "      <td>201104</td>\n",
       "    </tr>\n",
       "    <tr>\n",
       "      <th>4030</th>\n",
       "      <td>../../../work/dat/dat/hdw050/202209-018/data/p...</td>\n",
       "      <td>t/hdw050/202209-018/data/pha/cz/pha_cz_201104_...</td>\n",
       "      <td>t/hdw0</td>\n",
       "      <td>pha_cz_201104_003.csv</td>\n",
       "      <td>pha</td>\n",
       "      <td>cz</td>\n",
       "      <td>201104</td>\n",
       "    </tr>\n",
       "    <tr>\n",
       "      <th>4031</th>\n",
       "      <td>../../../work/dat/dat/hdw050/202209-018/data/p...</td>\n",
       "      <td>t/hdw050/202209-018/data/pha/cz/pha_cz_201105_...</td>\n",
       "      <td>t/hdw0</td>\n",
       "      <td>pha_cz_201105_000.csv</td>\n",
       "      <td>pha</td>\n",
       "      <td>cz</td>\n",
       "      <td>201105</td>\n",
       "    </tr>\n",
       "  </tbody>\n",
       "</table>\n",
       "</div>"
      ],
      "text/plain": [
       "                                                      f  \\\n",
       "4027  ../../../work/dat/dat/hdw050/202209-018/data/p...   \n",
       "4028  ../../../work/dat/dat/hdw050/202209-018/data/p...   \n",
       "4029  ../../../work/dat/dat/hdw050/202209-018/data/p...   \n",
       "4030  ../../../work/dat/dat/hdw050/202209-018/data/p...   \n",
       "4031  ../../../work/dat/dat/hdw050/202209-018/data/p...   \n",
       "\n",
       "                                                    gp0      gp  \\\n",
       "4027  t/hdw050/202209-018/data/pha/cz/pha_cz_201104_...  t/hdw0   \n",
       "4028  t/hdw050/202209-018/data/pha/cz/pha_cz_201104_...  t/hdw0   \n",
       "4029  t/hdw050/202209-018/data/pha/cz/pha_cz_201104_...  t/hdw0   \n",
       "4030  t/hdw050/202209-018/data/pha/cz/pha_cz_201104_...  t/hdw0   \n",
       "4031  t/hdw050/202209-018/data/pha/cz/pha_cz_201105_...  t/hdw0   \n",
       "\n",
       "                       file scheme tbl      ym  \n",
       "4027  pha_cz_201104_000.csv    pha  cz  201104  \n",
       "4028  pha_cz_201104_001.csv    pha  cz  201104  \n",
       "4029  pha_cz_201104_002.csv    pha  cz  201104  \n",
       "4030  pha_cz_201104_003.csv    pha  cz  201104  \n",
       "4031  pha_cz_201105_000.csv    pha  cz  201105  "
      ]
     },
     "execution_count": 16,
     "metadata": {},
     "output_type": "execute_result"
    }
   ],
   "source": [
    "tag = \"pha\"\n",
    "l_tb = d_schm[tag]\n",
    "df_pha = df_csv_\\\n",
    "    .query(\"scheme == @tag\")\\\n",
    "    .query(\"tbl in @l_tb\")\n",
    "\n",
    "\n",
    "df_pha.head()"
   ]
  },
  {
   "cell_type": "code",
   "execution_count": 17,
   "metadata": {},
   "outputs": [
    {
     "data": {
      "text/plain": [
       "(10017, 7)"
      ]
     },
     "execution_count": 17,
     "metadata": {},
     "output_type": "execute_result"
    }
   ],
   "source": [
    "df_csv = pd.concat([df_dpc, df_med, df_pha])\\\n",
    "    .sort_values([\"scheme\", \"ym\"])\n",
    "\n",
    "df_csv.shape"
   ]
  },
  {
   "cell_type": "code",
   "execution_count": 18,
   "metadata": {},
   "outputs": [
    {
     "data": {
      "text/html": [
       "<div>\n",
       "<style scoped>\n",
       "    .dataframe tbody tr th:only-of-type {\n",
       "        vertical-align: middle;\n",
       "    }\n",
       "\n",
       "    .dataframe tbody tr th {\n",
       "        vertical-align: top;\n",
       "    }\n",
       "\n",
       "    .dataframe thead th {\n",
       "        text-align: right;\n",
       "    }\n",
       "</style>\n",
       "<table border=\"1\" class=\"dataframe\">\n",
       "  <thead>\n",
       "    <tr style=\"text-align: right;\">\n",
       "      <th></th>\n",
       "      <th>f</th>\n",
       "      <th>gp0</th>\n",
       "      <th>gp</th>\n",
       "      <th>file</th>\n",
       "      <th>scheme</th>\n",
       "      <th>tbl</th>\n",
       "      <th>ym</th>\n",
       "    </tr>\n",
       "  </thead>\n",
       "  <tbody>\n",
       "    <tr>\n",
       "      <th>132</th>\n",
       "      <td>../../../work/dat/dat/hdw050/202209-018/data/d...</td>\n",
       "      <td>t/hdw050/202209-018/data/dpc/cd/dpc_cd_201104_...</td>\n",
       "      <td>t/hdw0</td>\n",
       "      <td>dpc_cd_201104_000.csv</td>\n",
       "      <td>dpc</td>\n",
       "      <td>cd</td>\n",
       "      <td>201104</td>\n",
       "    </tr>\n",
       "    <tr>\n",
       "      <th>133</th>\n",
       "      <td>../../../work/dat/dat/hdw050/202209-018/data/d...</td>\n",
       "      <td>t/hdw050/202209-018/data/dpc/cd/dpc_cd_201104_...</td>\n",
       "      <td>t/hdw0</td>\n",
       "      <td>dpc_cd_201104_001.csv</td>\n",
       "      <td>dpc</td>\n",
       "      <td>cd</td>\n",
       "      <td>201104</td>\n",
       "    </tr>\n",
       "    <tr>\n",
       "      <th>134</th>\n",
       "      <td>../../../work/dat/dat/hdw050/202209-018/data/d...</td>\n",
       "      <td>t/hdw050/202209-018/data/dpc/cd/dpc_cd_201104_...</td>\n",
       "      <td>t/hdw0</td>\n",
       "      <td>dpc_cd_201104_002.csv</td>\n",
       "      <td>dpc</td>\n",
       "      <td>cd</td>\n",
       "      <td>201104</td>\n",
       "    </tr>\n",
       "    <tr>\n",
       "      <th>734</th>\n",
       "      <td>../../../work/dat/dat/hdw050/202209-018/data/d...</td>\n",
       "      <td>t/hdw050/202209-018/data/dpc/hh/dpc_hh_201104_...</td>\n",
       "      <td>t/hdw0</td>\n",
       "      <td>dpc_hh_201104_000.csv</td>\n",
       "      <td>dpc</td>\n",
       "      <td>hh</td>\n",
       "      <td>201104</td>\n",
       "    </tr>\n",
       "    <tr>\n",
       "      <th>866</th>\n",
       "      <td>../../../work/dat/dat/hdw050/202209-018/data/d...</td>\n",
       "      <td>t/hdw050/202209-018/data/dpc/ho/dpc_ho_201104_...</td>\n",
       "      <td>t/hdw0</td>\n",
       "      <td>dpc_ho_201104_000.csv</td>\n",
       "      <td>dpc</td>\n",
       "      <td>ho</td>\n",
       "      <td>201104</td>\n",
       "    </tr>\n",
       "  </tbody>\n",
       "</table>\n",
       "</div>"
      ],
      "text/plain": [
       "                                                     f  \\\n",
       "132  ../../../work/dat/dat/hdw050/202209-018/data/d...   \n",
       "133  ../../../work/dat/dat/hdw050/202209-018/data/d...   \n",
       "134  ../../../work/dat/dat/hdw050/202209-018/data/d...   \n",
       "734  ../../../work/dat/dat/hdw050/202209-018/data/d...   \n",
       "866  ../../../work/dat/dat/hdw050/202209-018/data/d...   \n",
       "\n",
       "                                                   gp0      gp  \\\n",
       "132  t/hdw050/202209-018/data/dpc/cd/dpc_cd_201104_...  t/hdw0   \n",
       "133  t/hdw050/202209-018/data/dpc/cd/dpc_cd_201104_...  t/hdw0   \n",
       "134  t/hdw050/202209-018/data/dpc/cd/dpc_cd_201104_...  t/hdw0   \n",
       "734  t/hdw050/202209-018/data/dpc/hh/dpc_hh_201104_...  t/hdw0   \n",
       "866  t/hdw050/202209-018/data/dpc/ho/dpc_ho_201104_...  t/hdw0   \n",
       "\n",
       "                      file scheme tbl      ym  \n",
       "132  dpc_cd_201104_000.csv    dpc  cd  201104  \n",
       "133  dpc_cd_201104_001.csv    dpc  cd  201104  \n",
       "134  dpc_cd_201104_002.csv    dpc  cd  201104  \n",
       "734  dpc_hh_201104_000.csv    dpc  hh  201104  \n",
       "866  dpc_ho_201104_000.csv    dpc  ho  201104  "
      ]
     },
     "execution_count": 18,
     "metadata": {},
     "output_type": "execute_result"
    }
   ],
   "source": [
    "df_csv.head()"
   ]
  },
  {
   "cell_type": "code",
   "execution_count": 19,
   "metadata": {},
   "outputs": [
    {
     "data": {
      "text/plain": [
       "'../../../work/dat/dat/hdw050/202209-018/data/dpc/cd/dpc_cd_201104_000.csv'"
      ]
     },
     "execution_count": 19,
     "metadata": {},
     "output_type": "execute_result"
    }
   ],
   "source": [
    "\"../../../storage/archives/dat/hdw050/202209-018/data/dpc/cd/dpc_cd_201104_000.csv\"\n",
    "\"../../../work/dat/dat/hdw050/202209-018/data/dpc/cd/dpc_cd_201104_000.csv\""
   ]
  },
  {
   "cell_type": "code",
   "execution_count": 20,
   "metadata": {},
   "outputs": [
    {
     "name": "stdout",
     "output_type": "stream",
     "text": [
      "CPU times: user 144 ms, sys: 7.98 ms, total: 152 ms\n",
      "Wall time: 151 ms\n"
     ]
    }
   ],
   "source": [
    "%%time\n",
    "outdir = \"../../../work/procdat/insvaex/\"\n",
    "l_proc = []\n",
    "\n",
    "for r in df_csv.itertuples():\n",
    "    d = r._asdict()\n",
    "    del d[\"Index\"]\n",
    "    f = r.f\n",
    "    p = pathlib.Path(f)\n",
    "    d[\"odr\"] = d[\"file\"][-7:-4]\n",
    "    d[\"f\"] = d[\"f\"].replace(\"/work/dat/dat/\",\"/share3/\")\n",
    "    f_out = outdir + p.name.replace(\"csv\", \"hdf5\")\n",
    "    f_out_base = p.name.replace(\"csv\", \"hdf5\")\n",
    "    d[\"f_pq\"] = f_out\n",
    "    d[\"f_pq_base\"] = f_out_base\n",
    "    l_proc.append(d)\n",
    "#     fn = pathlib.Path(r.f)\n",
    "#     print(fn)\n",
    "#     break"
   ]
  },
  {
   "cell_type": "code",
   "execution_count": 21,
   "metadata": {
    "collapsed": true,
    "jupyter": {
     "outputs_hidden": true
    }
   },
   "outputs": [
    {
     "data": {
      "text/plain": [
       "[{'f': '../../../share3/hdw050/202209-018/data/dpc/cd/dpc_cd_201104_000.csv',\n",
       "  'gp0': 't/hdw050/202209-018/data/dpc/cd/dpc_cd_201104_000.csv',\n",
       "  'gp': 't/hdw0',\n",
       "  'file': 'dpc_cd_201104_000.csv',\n",
       "  'scheme': 'dpc',\n",
       "  'tbl': 'cd',\n",
       "  'ym': '201104',\n",
       "  'odr': '000',\n",
       "  'f_pq': '../../../work/procdat/insvaex/dpc_cd_201104_000.hdf5',\n",
       "  'f_pq_base': 'dpc_cd_201104_000.hdf5'},\n",
       " {'f': '../../../share3/hdw050/202209-018/data/dpc/cd/dpc_cd_201104_001.csv',\n",
       "  'gp0': 't/hdw050/202209-018/data/dpc/cd/dpc_cd_201104_001.csv',\n",
       "  'gp': 't/hdw0',\n",
       "  'file': 'dpc_cd_201104_001.csv',\n",
       "  'scheme': 'dpc',\n",
       "  'tbl': 'cd',\n",
       "  'ym': '201104',\n",
       "  'odr': '001',\n",
       "  'f_pq': '../../../work/procdat/insvaex/dpc_cd_201104_001.hdf5',\n",
       "  'f_pq_base': 'dpc_cd_201104_001.hdf5'},\n",
       " {'f': '../../../share3/hdw050/202209-018/data/dpc/cd/dpc_cd_201104_002.csv',\n",
       "  'gp0': 't/hdw050/202209-018/data/dpc/cd/dpc_cd_201104_002.csv',\n",
       "  'gp': 't/hdw0',\n",
       "  'file': 'dpc_cd_201104_002.csv',\n",
       "  'scheme': 'dpc',\n",
       "  'tbl': 'cd',\n",
       "  'ym': '201104',\n",
       "  'odr': '002',\n",
       "  'f_pq': '../../../work/procdat/insvaex/dpc_cd_201104_002.hdf5',\n",
       "  'f_pq_base': 'dpc_cd_201104_002.hdf5'}]"
      ]
     },
     "execution_count": 21,
     "metadata": {},
     "output_type": "execute_result"
    }
   ],
   "source": [
    "l_proc[:3]"
   ]
  },
  {
   "cell_type": "code",
   "execution_count": 22,
   "metadata": {},
   "outputs": [],
   "source": [
    "f_pkls = \"../../../share/procdat/p1_dbcreation/d_dict_fs_dict2_20230626_093330.json\"\n",
    "# f_pkls = \"../../../share/procdat/p1_dbcreation_split/d_dict_sub_20230829_053938.json\"\n",
    "d_dict = f2d(f_pkls)"
   ]
  },
  {
   "cell_type": "code",
   "execution_count": 23,
   "metadata": {},
   "outputs": [],
   "source": [
    "# d_dict"
   ]
  },
  {
   "cell_type": "code",
   "execution_count": 24,
   "metadata": {},
   "outputs": [
    {
     "data": {
      "text/plain": [
       "'../../../share/procdat/p1_dbcreation/d_seq2_to_id1n_pha_202203.pkl'"
      ]
     },
     "execution_count": 24,
     "metadata": {},
     "output_type": "execute_result"
    }
   ],
   "source": [
    "d_id1 = d_dict[r.scheme][r.ym].replace(\"strage\", \"share\")\n",
    "d_id1"
   ]
  },
  {
   "cell_type": "code",
   "execution_count": null,
   "metadata": {},
   "outputs": [],
   "source": []
  },
  {
   "cell_type": "code",
   "execution_count": 25,
   "metadata": {},
   "outputs": [
    {
     "data": {
      "text/plain": [
       "['0',\n",
       " '1',\n",
       " '2',\n",
       " '3',\n",
       " '4',\n",
       " '5',\n",
       " '6',\n",
       " '7',\n",
       " '8',\n",
       " '9',\n",
       " 'a',\n",
       " 'b',\n",
       " 'c',\n",
       " 'd',\n",
       " 'e',\n",
       " 'f']"
      ]
     },
     "execution_count": 25,
     "metadata": {},
     "output_type": "execute_result"
    }
   ],
   "source": [
    "chrs = string.digits + string.ascii_lowercase[:6]\n",
    "chrs = [c for c in chrs]\n",
    "chrs"
   ]
  },
  {
   "cell_type": "code",
   "execution_count": 27,
   "metadata": {},
   "outputs": [
    {
     "name": "stdout",
     "output_type": "stream",
     "text": [
      "../../../storage/parquets/d_0\n",
      "../../../storage/parquets/d_1\n",
      "../../../storage/parquets/d_2\n",
      "../../../storage/parquets/d_3\n",
      "../../../storage/parquets/d_4\n",
      "../../../storage/parquets/d_5\n",
      "../../../storage/parquets/d_6\n",
      "../../../storage/parquets/d_7\n",
      "../../../storage/parquets/d_8\n",
      "../../../storage/parquets/d_9\n",
      "../../../storage/parquets/d_a\n",
      "../../../storage/parquets/d_b\n",
      "../../../storage/parquets/d_c\n",
      "../../../storage/parquets/d_d\n",
      "../../../storage/parquets/d_e\n",
      "../../../storage/parquets/d_f\n"
     ]
    }
   ],
   "source": [
    "for c in chrs:\n",
    "    d_c = \"../../../storage/parquets/d_\" +c\n",
    "    print(d_c)\n",
    "    !mkdir $d_c"
   ]
  },
  {
   "cell_type": "code",
   "execution_count": 36,
   "metadata": {},
   "outputs": [],
   "source": [
    "import psutil\n",
    "import time\n",
    "\n",
    "def get_free_mem():\n",
    "    mem_info = psutil.virtual_memory()\n",
    "    free_mem = mem_info.available /mem_info.total\n",
    "    return free_mem\n",
    "\n",
    "def wait4ram(d):\n",
    "    fm = get_free_mem()\n",
    "    while fm < 0.2:\n",
    "        print(\"free_ram:{}\".format(fm))\n",
    "        print(\"waiting:\"+d[\"f\"])\n",
    "        \n",
    "        time.sleep(1200)\n",
    "        fm = get_free_mem()\n",
    "        gc.collect()\n",
    "    print(\"free_ram:{}\".format(fm))\n",
    "    print(\"start:\"+d[\"f\"])"
   ]
  },
  {
   "cell_type": "code",
   "execution_count": 29,
   "metadata": {},
   "outputs": [],
   "source": [
    "import pyarrow as pa\n",
    "import pyarrow.csv as csv"
   ]
  },
  {
   "cell_type": "code",
   "execution_count": null,
   "metadata": {},
   "outputs": [],
   "source": []
  },
  {
   "cell_type": "code",
   "execution_count": 44,
   "metadata": {},
   "outputs": [],
   "source": [
    "def csv2snp4vaex(d):\n",
    "    wait4ram(d)\n",
    "    \n",
    "    chunk_size = int(1e+7)\n",
    "    f = d[\"f\"]\n",
    "    f_out = d[\"f_pq\"]\n",
    "    f_out_base = d[\"f_pq_base\"]\n",
    "    sch = d[\"scheme\"]\n",
    "    tb = d[\"tbl\"]\n",
    "    ym = d[\"ym\"]    \n",
    "    odr = d[\"odr\"]\n",
    "    \n",
    "    cols_drops = d_drop[(sch, tb)]\n",
    "    \n",
    "    f_d_id1n = d_dict[sch][ym].replace(\"strage\", \"share\")\n",
    "    d[\"d_id1\"] = f_d_id1n\n",
    "#     d_id1n = p2d(f_d_id1n)\n",
    "    \n",
    "    df_tmp = dd.read_csv(f, assume_missing=True, header=None, \n",
    "#                              low_memory=False, \n",
    "                     blocksize = \"64MB\",\n",
    "#                      sample= int(2e+7),\n",
    "                     sep=\",\",dtype=\"object\")\n",
    "    ncol = len(df_tmp.columns)\n",
    "    d[\"ncol\"] = ncol\n",
    "    del df_tmp\n",
    "    \n",
    "    cols_drop_ind = [int(c[1:]) -1 for c in cols_drops]\n",
    "    need_cols = [c for c in range(ncol) if c not in cols_drop_ind]\n",
    "    need_cols_name = [\"c\" +str(i+1) for i in need_cols]\n",
    "    \n",
    "    #cols_drops = [\"c\" + str(int(c[1:])) for c in cols_drops]\n",
    "    \n",
    "    d_proc_meta = d.copy()\n",
    "\n",
    "#     f_out = \"../../../work/procdat/insvaex/d_xxx/in_{0}_{1}_{2}_{3}_xxx_sxyyy_{4}.hdf5\".format(ym, sch, tb, odr, ts)\n",
    "    f_whole = \"../../../storage/parquets/in_{0}_{1}_{2}_{3}.parquet\".format(ym, sch, tb, odr)\n",
    "#     f_meta = f_out.replace(\".hdf5\", \"_meta.json\").replace(\"insvaex/d_xxx\",\"metajsons\")\n",
    "    \n",
    "    d_proc_meta[\"need_cols\"] = need_cols\n",
    "    d_proc_meta[\"need_cols_name\"] = need_cols_name\n",
    "    d_proc_meta[\"f_out\"] = f_out\n",
    "#     d_proc_meta[\"f_meta\"] = f_meta\n",
    "    d_proc_meta[\"f_whole_hdf5\"] = f_whole\n",
    "    d_proc_meta[\"f\"] = f\n",
    "    d_proc_meta[\"ts\"] = ts\n",
    "    d_proc_meta[\"cols_drops\"] = cols_drops\n",
    "    d_proc_meta[\"f_out_chr\"] = dict()\n",
    "    \n",
    "    for c in chrs:\n",
    "        d_proc_meta[\"f_out_chr\"][c] = f_out.replace(\"xxx\", c)\n",
    "\n",
    "#     d2j(d=d_proc_meta,\n",
    "#         f=f_meta)\n",
    "    vaex.cache.off()\n",
    "    vaex.read_csv(f, convert=f_whole, header=None,\n",
    "              chunk_size = int(1e+6),\n",
    "                  dtype=\"str\"\n",
    "             )\n",
    "    \n",
    "\n",
    "    \n",
    "#     dfs = open(f_whole)\n",
    "#     dfs = vaex.read_csv(f, convert=f_whole, header=None,\n",
    "# #               chunk_size = int(1e+6),\n",
    "#                   dtype=\"str\"\n",
    "#              )\n",
    "\n",
    "    \n",
    "\n",
    "#     for cx in range(ncol):\n",
    "#         dfs.rename(str(cx), \"c\" + str(cx+1))\n",
    "    \n",
    "#     dfs.drop(columns = cols_drops, inplace = True)\n",
    "    \n",
    "\n",
    "#     dfs[\"id1n\"] = dfs[\"c2\"].apply(lambda x:d_id1n[x])\n",
    "#     dfs[\"cap\"] = dfs[\"id1n\"].str.get(0)\n",
    "#     dfs.materialize(inplace = True)\n",
    "    \n",
    "#     return dfs\n",
    "\n",
    "#     total_row = len(dfs)\n",
    "#     j = 0\n",
    "#     for start in range(0, total_row, chunk_size):\n",
    "#         print(start)\n",
    "#         end = min(start + chunk_size, total_row)\n",
    "#         df= dfs[start:end]\n",
    "\n",
    "#         gc.collect()\n",
    "        \n",
    "#         #df = df.materialize()\n",
    "                \n",
    "#         for capx, df_sub in df.groupby(\"cap\"):\n",
    "#             cx = capx[0]\n",
    "#             df_sub.drop(columns=[\"cap\"], inplace=True)\n",
    "#             f_out_sub = d_proc_meta[\"f_out_chr\"][cx].replace(\"yyy\", format(j, '08'))\n",
    "\n",
    "#             print(f_out_sub)\n",
    "#             df_sub.export_hdf5(f_out_sub)\n",
    "#         del df\n",
    "#         j = j +1\n",
    "#         gc.collect()\n",
    "        \n",
    "#     del dfs\n",
    "#     gc.collect()\n",
    "    return d_proc_meta\n",
    "\n",
    "\n",
    "\n",
    "#     dfs =vaex.from_csv_arrow(f,\n",
    "#                             read_options=csv.ReadOptions(autogenerate_column_names =True,\n",
    "#                                                          block_size=chunk_size))\n",
    "\n",
    "\n",
    "#     return dfs\n",
    "#     dfs =  vaex.from_csv(f,\n",
    "#                    header=None, \n",
    "# #                         convert=f_whole,\n",
    "# #                      low_memory=False, \n",
    "# #                      sep=\",\",\n",
    "#                      usecols = need_cols\n",
    "#                      ,dtype=\"str\",\n",
    "#                   chunk_size = chunk_size\n",
    "#              )\n",
    "#     dfs = vaex.open(f_whole,\n",
    "#                     sep=\",\",\n",
    "#                      usecols = need_cols\n",
    "#                      ,dtype=\"str\",\n",
    "# #                   chunk_size = chunk_size)\n",
    "\n",
    "#     for j, df in enumerate(dfs):\n",
    "#         for c0, c1 in zip(need_cols, need_cols_name):\n",
    "#             df.rename(str(c0), c1)\n",
    "#         df[\"id1n\"] = df[\"c2\"].apply(lambda x:d_id1n[x])\n",
    "#         df[\"cap\"] = df[\"id1n\"].str.get(0)\n",
    "#         df.materialize(inplace = True)\n",
    "#         gc.collect()\n",
    "        \n",
    "#         #df = df.materialize()\n",
    "                \n",
    "#         for capx, df_sub in df.groupby(\"cap\"):\n",
    "#             cx = capx[0]\n",
    "#             df_sub.drop(columns=[\"cap\"], inplace=True)\n",
    "#             f_out_sub = d_proc_meta[\"f_out_chr\"][cx].replace(\"yyy\", format(j, '08'))\n",
    "\n",
    "#             print(f_out_sub)\n",
    "#             df_sub.export_hdf5(f_out_sub)\n",
    "#         del df\n",
    "#         gc.collect()\n",
    "#     print(f_out)\n",
    "#     del dfs\n",
    "#     gc.collect()\n",
    "#     return d_proc_meta"
   ]
  },
  {
   "cell_type": "code",
   "execution_count": 45,
   "metadata": {},
   "outputs": [],
   "source": [
    "# l_proc[:4]"
   ]
  },
  {
   "cell_type": "code",
   "execution_count": 46,
   "metadata": {},
   "outputs": [],
   "source": [
    "# tes = csv2snp4vaex(l_proc[0])"
   ]
  },
  {
   "cell_type": "code",
   "execution_count": 47,
   "metadata": {},
   "outputs": [],
   "source": [
    "# tes\n"
   ]
  },
  {
   "cell_type": "code",
   "execution_count": 48,
   "metadata": {},
   "outputs": [
    {
     "data": {
      "text/plain": [
       "[{'f': '../../../share3/hdw050/202209-018/data/pha/re/pha_re_201806_002.csv',\n",
       "  'gp0': 't/hdw050/202209-018/data/pha/re/pha_re_201806_002.csv',\n",
       "  'gp': 't/hdw0',\n",
       "  'file': 'pha_re_201806_002.csv',\n",
       "  'scheme': 'pha',\n",
       "  'tbl': 're',\n",
       "  'ym': '201806',\n",
       "  'odr': '002',\n",
       "  'f_pq': '../../../work/procdat/insvaex/pha_re_201806_002.hdf5',\n",
       "  'f_pq_base': 'pha_re_201806_002.hdf5'},\n",
       " {'f': '../../../share3/hdw051/202209-018/data/med/sy/med_sy_201905_002.csv',\n",
       "  'gp0': 't/hdw051/202209-018/data/med/sy/med_sy_201905_002.csv',\n",
       "  'gp': 't/hdw0',\n",
       "  'file': 'med_sy_201905_002.csv',\n",
       "  'scheme': 'med',\n",
       "  'tbl': 'sy',\n",
       "  'ym': '201905',\n",
       "  'odr': '002',\n",
       "  'f_pq': '../../../work/procdat/insvaex/med_sy_201905_002.hdf5',\n",
       "  'f_pq_base': 'med_sy_201905_002.hdf5'},\n",
       " {'f': '../../../share3/hdw051/202209-018/data/med/si/med_si_201209_017.csv',\n",
       "  'gp0': 't/hdw051/202209-018/data/med/si/med_si_201209_017.csv',\n",
       "  'gp': 't/hdw0',\n",
       "  'file': 'med_si_201209_017.csv',\n",
       "  'scheme': 'med',\n",
       "  'tbl': 'si',\n",
       "  'ym': '201209',\n",
       "  'odr': '017',\n",
       "  'f_pq': '../../../work/procdat/insvaex/med_si_201209_017.hdf5',\n",
       "  'f_pq_base': 'med_si_201209_017.hdf5'}]"
      ]
     },
     "execution_count": 48,
     "metadata": {},
     "output_type": "execute_result"
    }
   ],
   "source": [
    "l_proc[:3]"
   ]
  },
  {
   "cell_type": "code",
   "execution_count": 49,
   "metadata": {},
   "outputs": [
    {
     "data": {
      "text/plain": [
       "1"
      ]
     },
     "execution_count": 49,
     "metadata": {},
     "output_type": "execute_result"
    }
   ],
   "source": [
    "1"
   ]
  },
  {
   "cell_type": "code",
   "execution_count": 50,
   "metadata": {},
   "outputs": [],
   "source": [
    "import random\n",
    "random.seed(123)\n",
    "random.shuffle(l_proc)"
   ]
  },
  {
   "cell_type": "code",
   "execution_count": 51,
   "metadata": {},
   "outputs": [
    {
     "name": "stderr",
     "output_type": "stream",
     "text": [
      "[Parallel(n_jobs=16)]: Using backend LokyBackend with 16 concurrent workers.\n",
      "/opt/conda/lib/python3.8/site-packages/joblib/externals/loky/process_executor.py:688: UserWarning: A worker stopped while some jobs were given to the executor. This can be caused by a too short worker timeout or by a memory leak.\n",
      "  warnings.warn(\n",
      "[Parallel(n_jobs=16)]: Done   9 tasks      | elapsed:  3.8min\n",
      "[Parallel(n_jobs=16)]: Done  18 tasks      | elapsed:  5.7min\n",
      "[Parallel(n_jobs=16)]: Done  29 tasks      | elapsed:  7.5min\n",
      "[Parallel(n_jobs=16)]: Done  40 tasks      | elapsed:  9.8min\n",
      "[Parallel(n_jobs=16)]: Done  53 tasks      | elapsed: 13.1min\n",
      "[Parallel(n_jobs=16)]: Done  66 tasks      | elapsed: 16.1min\n",
      "[Parallel(n_jobs=16)]: Done  81 tasks      | elapsed: 20.4min\n",
      "[Parallel(n_jobs=16)]: Done  96 tasks      | elapsed: 23.3min\n",
      "[Parallel(n_jobs=16)]: Done 113 tasks      | elapsed: 26.1min\n",
      "[Parallel(n_jobs=16)]: Done 130 tasks      | elapsed: 28.8min\n",
      "[Parallel(n_jobs=16)]: Done 149 tasks      | elapsed: 32.8min\n",
      "[Parallel(n_jobs=16)]: Done 168 tasks      | elapsed: 36.9min\n",
      "[Parallel(n_jobs=16)]: Done 189 tasks      | elapsed: 42.8min\n",
      "[Parallel(n_jobs=16)]: Done 210 tasks      | elapsed: 48.0min\n",
      "[Parallel(n_jobs=16)]: Done 233 tasks      | elapsed: 54.9min\n",
      "[Parallel(n_jobs=16)]: Done 256 tasks      | elapsed: 58.6min\n",
      "[Parallel(n_jobs=16)]: Done 281 tasks      | elapsed: 65.4min\n",
      "[Parallel(n_jobs=16)]: Done 306 tasks      | elapsed: 71.6min\n",
      "[Parallel(n_jobs=16)]: Done 333 tasks      | elapsed: 76.7min\n",
      "[Parallel(n_jobs=16)]: Done 360 tasks      | elapsed: 82.3min\n",
      "[Parallel(n_jobs=16)]: Done 389 tasks      | elapsed: 91.2min\n",
      "[Parallel(n_jobs=16)]: Done 418 tasks      | elapsed: 98.1min\n",
      "[Parallel(n_jobs=16)]: Done 449 tasks      | elapsed: 104.6min\n",
      "[Parallel(n_jobs=16)]: Done 480 tasks      | elapsed: 111.3min\n",
      "[Parallel(n_jobs=16)]: Done 513 tasks      | elapsed: 120.1min\n",
      "[Parallel(n_jobs=16)]: Done 546 tasks      | elapsed: 128.2min\n",
      "[Parallel(n_jobs=16)]: Done 581 tasks      | elapsed: 137.1min\n",
      "[Parallel(n_jobs=16)]: Done 616 tasks      | elapsed: 144.5min\n",
      "[Parallel(n_jobs=16)]: Done 653 tasks      | elapsed: 153.5min\n",
      "[Parallel(n_jobs=16)]: Done 690 tasks      | elapsed: 162.6min\n",
      "[Parallel(n_jobs=16)]: Done 729 tasks      | elapsed: 170.7min\n",
      "[Parallel(n_jobs=16)]: Done 768 tasks      | elapsed: 178.0min\n",
      "[Parallel(n_jobs=16)]: Done 809 tasks      | elapsed: 186.7min\n",
      "[Parallel(n_jobs=16)]: Done 850 tasks      | elapsed: 195.4min\n",
      "[Parallel(n_jobs=16)]: Done 893 tasks      | elapsed: 203.6min\n",
      "[Parallel(n_jobs=16)]: Done 936 tasks      | elapsed: 210.5min\n",
      "[Parallel(n_jobs=16)]: Done 981 tasks      | elapsed: 220.7min\n",
      "[Parallel(n_jobs=16)]: Done 1026 tasks      | elapsed: 230.1min\n",
      "[Parallel(n_jobs=16)]: Done 1073 tasks      | elapsed: 240.9min\n",
      "[Parallel(n_jobs=16)]: Done 1120 tasks      | elapsed: 250.5min\n",
      "[Parallel(n_jobs=16)]: Done 1169 tasks      | elapsed: 261.7min\n",
      "[Parallel(n_jobs=16)]: Done 1218 tasks      | elapsed: 272.4min\n",
      "[Parallel(n_jobs=16)]: Done 1269 tasks      | elapsed: 283.7min\n",
      "[Parallel(n_jobs=16)]: Done 1320 tasks      | elapsed: 294.2min\n",
      "[Parallel(n_jobs=16)]: Done 1373 tasks      | elapsed: 305.1min\n",
      "[Parallel(n_jobs=16)]: Done 1426 tasks      | elapsed: 316.2min\n",
      "[Parallel(n_jobs=16)]: Done 1481 tasks      | elapsed: 326.1min\n",
      "[Parallel(n_jobs=16)]: Done 1536 tasks      | elapsed: 336.5min\n",
      "[Parallel(n_jobs=16)]: Done 1593 tasks      | elapsed: 348.2min\n",
      "[Parallel(n_jobs=16)]: Done 1650 tasks      | elapsed: 359.7min\n",
      "[Parallel(n_jobs=16)]: Done 1709 tasks      | elapsed: 373.3min\n",
      "[Parallel(n_jobs=16)]: Done 1768 tasks      | elapsed: 387.2min\n",
      "[Parallel(n_jobs=16)]: Done 1829 tasks      | elapsed: 398.3min\n",
      "[Parallel(n_jobs=16)]: Done 1890 tasks      | elapsed: 410.7min\n",
      "[Parallel(n_jobs=16)]: Done 1953 tasks      | elapsed: 421.6min\n",
      "[Parallel(n_jobs=16)]: Done 2016 tasks      | elapsed: 436.1min\n",
      "[Parallel(n_jobs=16)]: Done 2081 tasks      | elapsed: 450.0min\n",
      "[Parallel(n_jobs=16)]: Done 2146 tasks      | elapsed: 464.6min\n",
      "[Parallel(n_jobs=16)]: Done 2213 tasks      | elapsed: 478.4min\n",
      "[Parallel(n_jobs=16)]: Done 2280 tasks      | elapsed: 490.8min\n",
      "[Parallel(n_jobs=16)]: Done 2349 tasks      | elapsed: 505.3min\n",
      "[Parallel(n_jobs=16)]: Done 2418 tasks      | elapsed: 517.1min\n",
      "[Parallel(n_jobs=16)]: Done 2489 tasks      | elapsed: 531.3min\n",
      "[Parallel(n_jobs=16)]: Done 2560 tasks      | elapsed: 545.4min\n",
      "[Parallel(n_jobs=16)]: Done 2633 tasks      | elapsed: 560.3min\n",
      "[Parallel(n_jobs=16)]: Done 2706 tasks      | elapsed: 577.9min\n",
      "[Parallel(n_jobs=16)]: Done 2781 tasks      | elapsed: 610.3min\n",
      "[Parallel(n_jobs=16)]: Done 2856 tasks      | elapsed: 623.8min\n",
      "[Parallel(n_jobs=16)]: Done 2933 tasks      | elapsed: 637.3min\n",
      "[Parallel(n_jobs=16)]: Done 3010 tasks      | elapsed: 652.7min\n",
      "[Parallel(n_jobs=16)]: Done 3089 tasks      | elapsed: 667.4min\n",
      "[Parallel(n_jobs=16)]: Done 3168 tasks      | elapsed: 686.2min\n",
      "[Parallel(n_jobs=16)]: Done 3249 tasks      | elapsed: 704.8min\n",
      "[Parallel(n_jobs=16)]: Done 3330 tasks      | elapsed: 717.6min\n",
      "[Parallel(n_jobs=16)]: Done 3413 tasks      | elapsed: 734.8min\n",
      "[Parallel(n_jobs=16)]: Done 3496 tasks      | elapsed: 752.0min\n",
      "[Parallel(n_jobs=16)]: Done 3581 tasks      | elapsed: 768.5min\n",
      "[Parallel(n_jobs=16)]: Done 3666 tasks      | elapsed: 788.2min\n",
      "[Parallel(n_jobs=16)]: Done 3753 tasks      | elapsed: 807.1min\n",
      "[Parallel(n_jobs=16)]: Done 3840 tasks      | elapsed: 824.5min\n",
      "[Parallel(n_jobs=16)]: Done 3929 tasks      | elapsed: 841.3min\n",
      "[Parallel(n_jobs=16)]: Done 4018 tasks      | elapsed: 860.1min\n",
      "[Parallel(n_jobs=16)]: Done 4109 tasks      | elapsed: 878.3min\n",
      "[Parallel(n_jobs=16)]: Done 4200 tasks      | elapsed: 895.6min\n",
      "[Parallel(n_jobs=16)]: Done 4293 tasks      | elapsed: 913.5min\n",
      "[Parallel(n_jobs=16)]: Done 4386 tasks      | elapsed: 938.2min\n",
      "[Parallel(n_jobs=16)]: Done 4481 tasks      | elapsed: 960.8min\n",
      "[Parallel(n_jobs=16)]: Done 4576 tasks      | elapsed: 980.3min\n",
      "[Parallel(n_jobs=16)]: Done 4673 tasks      | elapsed: 1000.1min\n",
      "[Parallel(n_jobs=16)]: Done 4770 tasks      | elapsed: 1018.9min\n",
      "[Parallel(n_jobs=16)]: Done 4869 tasks      | elapsed: 1036.2min\n",
      "[Parallel(n_jobs=16)]: Done 4968 tasks      | elapsed: 1056.8min\n",
      "[Parallel(n_jobs=16)]: Done 5069 tasks      | elapsed: 1081.2min\n",
      "[Parallel(n_jobs=16)]: Done 5170 tasks      | elapsed: 1107.1min\n",
      "[Parallel(n_jobs=16)]: Done 5273 tasks      | elapsed: 1126.9min\n",
      "[Parallel(n_jobs=16)]: Done 5376 tasks      | elapsed: 1146.4min\n",
      "[Parallel(n_jobs=16)]: Done 5481 tasks      | elapsed: 1172.1min\n",
      "[Parallel(n_jobs=16)]: Done 5586 tasks      | elapsed: 1193.6min\n",
      "[Parallel(n_jobs=16)]: Done 5693 tasks      | elapsed: 1215.5min\n",
      "[Parallel(n_jobs=16)]: Done 5800 tasks      | elapsed: 1242.5min\n",
      "[Parallel(n_jobs=16)]: Done 5909 tasks      | elapsed: 1265.2min\n",
      "[Parallel(n_jobs=16)]: Done 6018 tasks      | elapsed: 1285.9min\n",
      "[Parallel(n_jobs=16)]: Done 6129 tasks      | elapsed: 1309.5min\n",
      "[Parallel(n_jobs=16)]: Done 6240 tasks      | elapsed: 1331.6min\n",
      "[Parallel(n_jobs=16)]: Done 6353 tasks      | elapsed: 1352.2min\n",
      "[Parallel(n_jobs=16)]: Done 6466 tasks      | elapsed: 1375.0min\n",
      "[Parallel(n_jobs=16)]: Done 6581 tasks      | elapsed: 1397.5min\n",
      "[Parallel(n_jobs=16)]: Done 6696 tasks      | elapsed: 1419.6min\n",
      "[Parallel(n_jobs=16)]: Done 6813 tasks      | elapsed: 1447.6min\n",
      "[Parallel(n_jobs=16)]: Done 6930 tasks      | elapsed: 1480.2min\n",
      "[Parallel(n_jobs=16)]: Done 7049 tasks      | elapsed: 1502.9min\n",
      "[Parallel(n_jobs=16)]: Done 7168 tasks      | elapsed: 1525.4min\n",
      "[Parallel(n_jobs=16)]: Done 7289 tasks      | elapsed: 1551.6min\n",
      "[Parallel(n_jobs=16)]: Done 7410 tasks      | elapsed: 1585.9min\n",
      "[Parallel(n_jobs=16)]: Done 7533 tasks      | elapsed: 1614.4min\n",
      "[Parallel(n_jobs=16)]: Done 7656 tasks      | elapsed: 1636.7min\n",
      "[Parallel(n_jobs=16)]: Done 7781 tasks      | elapsed: 1674.1min\n",
      "[Parallel(n_jobs=16)]: Done 7906 tasks      | elapsed: 1697.9min\n",
      "[Parallel(n_jobs=16)]: Done 8033 tasks      | elapsed: 1721.4min\n",
      "[Parallel(n_jobs=16)]: Done 8160 tasks      | elapsed: 1749.9min\n",
      "[Parallel(n_jobs=16)]: Done 8289 tasks      | elapsed: 1777.1min\n",
      "[Parallel(n_jobs=16)]: Done 8418 tasks      | elapsed: 1800.8min\n",
      "[Parallel(n_jobs=16)]: Done 8549 tasks      | elapsed: 1825.6min\n",
      "[Parallel(n_jobs=16)]: Done 8680 tasks      | elapsed: 1861.4min\n",
      "[Parallel(n_jobs=16)]: Done 8813 tasks      | elapsed: 1886.5min\n",
      "[Parallel(n_jobs=16)]: Done 8946 tasks      | elapsed: 1908.4min\n",
      "[Parallel(n_jobs=16)]: Done 9081 tasks      | elapsed: 1932.5min\n",
      "[Parallel(n_jobs=16)]: Done 9216 tasks      | elapsed: 1960.4min\n",
      "[Parallel(n_jobs=16)]: Done 9353 tasks      | elapsed: 1993.4min\n",
      "[Parallel(n_jobs=16)]: Done 9490 tasks      | elapsed: 2020.7min\n",
      "[Parallel(n_jobs=16)]: Done 9629 tasks      | elapsed: 2048.6min\n",
      "[Parallel(n_jobs=16)]: Done 9768 tasks      | elapsed: 2081.3min\n",
      "[Parallel(n_jobs=16)]: Done 9909 tasks      | elapsed: 2118.6min\n"
     ]
    },
    {
     "name": "stdout",
     "output_type": "stream",
     "text": [
      "CPU times: user 40.5 s, sys: 11.4 s, total: 51.8 s\n",
      "Wall time: 1d 12h 27s\n"
     ]
    },
    {
     "name": "stderr",
     "output_type": "stream",
     "text": [
      "[Parallel(n_jobs=16)]: Done 10017 out of 10017 | elapsed: 2160.5min finished\n"
     ]
    }
   ],
   "source": [
    "%%time\n",
    "timeoutx = 1e+8\n",
    "result = joblib.Parallel(n_jobs=16, verbose = 10, timeout=timeoutx,\n",
    "#                          backend=\"multiprocessing\",\n",
    "                        )(joblib.delayed(csv2snp4vaex)(d) for i, d in enumerate(l_proc))"
   ]
  },
  {
   "cell_type": "code",
   "execution_count": 52,
   "metadata": {},
   "outputs": [
    {
     "data": {
      "text/plain": [
       "0"
      ]
     },
     "execution_count": 52,
     "metadata": {},
     "output_type": "execute_result"
    }
   ],
   "source": [
    "d2p(d=result, f=\"./vaex_dict_res_{}.pkl\".format(ts))"
   ]
  },
  {
   "cell_type": "code",
   "execution_count": 53,
   "metadata": {},
   "outputs": [
    {
     "data": {
      "text/plain": [
       "'20231003_083542'"
      ]
     },
     "execution_count": 53,
     "metadata": {},
     "output_type": "execute_result"
    }
   ],
   "source": [
    "ts"
   ]
  },
  {
   "cell_type": "code",
   "execution_count": 54,
   "metadata": {},
   "outputs": [],
   "source": [
    "dfx = pd.DataFrame().from_dict(result)"
   ]
  },
  {
   "cell_type": "code",
   "execution_count": 55,
   "metadata": {},
   "outputs": [],
   "source": [
    "dfx.to_pickle(\"./vaex_dict_df_{}.pkl\".format(ts))"
   ]
  },
  {
   "cell_type": "code",
   "execution_count": null,
   "metadata": {},
   "outputs": [],
   "source": []
  },
  {
   "cell_type": "code",
   "execution_count": null,
   "metadata": {},
   "outputs": [],
   "source": [
    "# df_proc = "
   ]
  }
 ],
 "metadata": {
  "kernelspec": {
   "display_name": "Python 3 (ipykernel)",
   "language": "python",
   "name": "python3"
  },
  "language_info": {
   "codemirror_mode": {
    "name": "ipython",
    "version": 3
   },
   "file_extension": ".py",
   "mimetype": "text/x-python",
   "name": "python",
   "nbconvert_exporter": "python",
   "pygments_lexer": "ipython3",
   "version": "3.10.11"
  }
 },
 "nbformat": 4,
 "nbformat_minor": 4
}
