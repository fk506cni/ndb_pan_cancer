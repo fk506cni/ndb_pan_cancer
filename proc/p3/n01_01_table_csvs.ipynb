{
 "cells": [
  {
   "cell_type": "markdown",
   "metadata": {},
   "source": [
    "## RE table insert"
   ]
  },
  {
   "cell_type": "code",
   "execution_count": null,
   "metadata": {},
   "outputs": [],
   "source": [
    "# !pip install ../../tools/whl/pymongo-4.0.1-cp38-cp38-manylinux_2_17_x86_64.manylinux2014_x86_64.whl"
   ]
  },
  {
   "cell_type": "code",
   "execution_count": 2,
   "metadata": {},
   "outputs": [],
   "source": [
    "import pymongo\n",
    "from datetime import datetime"
   ]
  },
  {
   "cell_type": "code",
   "execution_count": 3,
   "metadata": {},
   "outputs": [],
   "source": [
    "import glob\n",
    "import pandas as pd\n",
    "import os\n",
    "import re\n",
    "import joblib\n",
    "import gc\n",
    "import datetime"
   ]
  },
  {
   "cell_type": "code",
   "execution_count": 9,
   "metadata": {},
   "outputs": [
    {
     "data": {
      "text/plain": [
       "['../../../work/dat/dat/hdw050/202209-018/data/dpc/bu/dpc_bu_201104_000.csv',\n",
       " '../../../work/dat/dat/hdw050/202209-018/data/dpc/bu/dpc_bu_201105_000.csv',\n",
       " '../../../work/dat/dat/hdw050/202209-018/data/dpc/bu/dpc_bu_201106_000.csv']"
      ]
     },
     "execution_count": 9,
     "metadata": {},
     "output_type": "execute_result"
    }
   ],
   "source": [
    "dr = \"../../../work/dat/dat\"\n",
    "fs = glob.glob(dr + \"/**/**/**/**/**/**.csv\")\n",
    "fs = sorted(fs)\n",
    "fs[:3]"
   ]
  },
  {
   "cell_type": "code",
   "execution_count": 12,
   "metadata": {},
   "outputs": [
    {
     "data": {
      "text/html": [
       "<div>\n",
       "<style scoped>\n",
       "    .dataframe tbody tr th:only-of-type {\n",
       "        vertical-align: middle;\n",
       "    }\n",
       "\n",
       "    .dataframe tbody tr th {\n",
       "        vertical-align: top;\n",
       "    }\n",
       "\n",
       "    .dataframe thead th {\n",
       "        text-align: right;\n",
       "    }\n",
       "</style>\n",
       "<table border=\"1\" class=\"dataframe\">\n",
       "  <thead>\n",
       "    <tr style=\"text-align: right;\">\n",
       "      <th></th>\n",
       "      <th>f</th>\n",
       "      <th>gp0</th>\n",
       "      <th>gp</th>\n",
       "      <th>file</th>\n",
       "      <th>scheme</th>\n",
       "      <th>tbl</th>\n",
       "      <th>ym</th>\n",
       "    </tr>\n",
       "  </thead>\n",
       "  <tbody>\n",
       "    <tr>\n",
       "      <th>0</th>\n",
       "      <td>../../../work/dat/dat/hdw050/202209-018/data/d...</td>\n",
       "      <td>t/hdw050/202209-018/data/dpc/bu/dpc_bu_201104_...</td>\n",
       "      <td>t/hdw0</td>\n",
       "      <td>dpc_bu_201104_000.csv</td>\n",
       "      <td>dpc</td>\n",
       "      <td>bu</td>\n",
       "      <td>201104</td>\n",
       "    </tr>\n",
       "    <tr>\n",
       "      <th>1</th>\n",
       "      <td>../../../work/dat/dat/hdw050/202209-018/data/d...</td>\n",
       "      <td>t/hdw050/202209-018/data/dpc/bu/dpc_bu_201105_...</td>\n",
       "      <td>t/hdw0</td>\n",
       "      <td>dpc_bu_201105_000.csv</td>\n",
       "      <td>dpc</td>\n",
       "      <td>bu</td>\n",
       "      <td>201105</td>\n",
       "    </tr>\n",
       "    <tr>\n",
       "      <th>2</th>\n",
       "      <td>../../../work/dat/dat/hdw050/202209-018/data/d...</td>\n",
       "      <td>t/hdw050/202209-018/data/dpc/bu/dpc_bu_201106_...</td>\n",
       "      <td>t/hdw0</td>\n",
       "      <td>dpc_bu_201106_000.csv</td>\n",
       "      <td>dpc</td>\n",
       "      <td>bu</td>\n",
       "      <td>201106</td>\n",
       "    </tr>\n",
       "    <tr>\n",
       "      <th>3</th>\n",
       "      <td>../../../work/dat/dat/hdw050/202209-018/data/d...</td>\n",
       "      <td>t/hdw050/202209-018/data/dpc/bu/dpc_bu_201107_...</td>\n",
       "      <td>t/hdw0</td>\n",
       "      <td>dpc_bu_201107_000.csv</td>\n",
       "      <td>dpc</td>\n",
       "      <td>bu</td>\n",
       "      <td>201107</td>\n",
       "    </tr>\n",
       "    <tr>\n",
       "      <th>4</th>\n",
       "      <td>../../../work/dat/dat/hdw050/202209-018/data/d...</td>\n",
       "      <td>t/hdw050/202209-018/data/dpc/bu/dpc_bu_201108_...</td>\n",
       "      <td>t/hdw0</td>\n",
       "      <td>dpc_bu_201108_000.csv</td>\n",
       "      <td>dpc</td>\n",
       "      <td>bu</td>\n",
       "      <td>201108</td>\n",
       "    </tr>\n",
       "  </tbody>\n",
       "</table>\n",
       "</div>"
      ],
      "text/plain": [
       "                                                   f  \\\n",
       "0  ../../../work/dat/dat/hdw050/202209-018/data/d...   \n",
       "1  ../../../work/dat/dat/hdw050/202209-018/data/d...   \n",
       "2  ../../../work/dat/dat/hdw050/202209-018/data/d...   \n",
       "3  ../../../work/dat/dat/hdw050/202209-018/data/d...   \n",
       "4  ../../../work/dat/dat/hdw050/202209-018/data/d...   \n",
       "\n",
       "                                                 gp0      gp  \\\n",
       "0  t/hdw050/202209-018/data/dpc/bu/dpc_bu_201104_...  t/hdw0   \n",
       "1  t/hdw050/202209-018/data/dpc/bu/dpc_bu_201105_...  t/hdw0   \n",
       "2  t/hdw050/202209-018/data/dpc/bu/dpc_bu_201106_...  t/hdw0   \n",
       "3  t/hdw050/202209-018/data/dpc/bu/dpc_bu_201107_...  t/hdw0   \n",
       "4  t/hdw050/202209-018/data/dpc/bu/dpc_bu_201108_...  t/hdw0   \n",
       "\n",
       "                    file scheme tbl      ym  \n",
       "0  dpc_bu_201104_000.csv    dpc  bu  201104  \n",
       "1  dpc_bu_201105_000.csv    dpc  bu  201105  \n",
       "2  dpc_bu_201106_000.csv    dpc  bu  201106  \n",
       "3  dpc_bu_201107_000.csv    dpc  bu  201107  \n",
       "4  dpc_bu_201108_000.csv    dpc  bu  201108  "
      ]
     },
     "execution_count": 12,
     "metadata": {},
     "output_type": "execute_result"
    }
   ],
   "source": [
    "df_f = pd.DataFrame().from_dict({\"f\":fs})\\\n",
    "    .assign(gp0 = lambda df:df.f.str[20:])\\\n",
    "    .assign(gp = lambda df:df.gp0.str[:6]) \\\n",
    "    .assign(file = lambda df:df.f.str.extract(r'([a-z_0-9]*.csv$)', expand = False))\\\n",
    "    .assign(scheme = lambda df:df.file.str[:3]) \\\n",
    "    .assign(tbl = lambda df:df.file.str[4:6]) \\\n",
    "    .assign(ym = lambda df:df.file.str.extract(r'(_20[0-9]*_)', expand=False).str.replace(\"_\",\"\"))\n",
    "df_f.head()"
   ]
  },
  {
   "cell_type": "code",
   "execution_count": 13,
   "metadata": {},
   "outputs": [],
   "source": [
    "yms = df_f[\"ym\"].unique()"
   ]
  },
  {
   "cell_type": "code",
   "execution_count": 14,
   "metadata": {},
   "outputs": [
    {
     "data": {
      "text/plain": [
       "array(['201104', '201105', '201106'], dtype=object)"
      ]
     },
     "execution_count": 14,
     "metadata": {},
     "output_type": "execute_result"
    }
   ],
   "source": [
    "yms[:3]"
   ]
  },
  {
   "cell_type": "code",
   "execution_count": 15,
   "metadata": {},
   "outputs": [
    {
     "name": "stdout",
     "output_type": "stream",
     "text": [
      "./df_csv_raw20230828_001100.pkl\n"
     ]
    }
   ],
   "source": [
    "nw = datetime.datetime.now()\n",
    "ts = nw.strftime(\"%Y%m%d_%H%M%S\")\n",
    "# ts = \"\"\n",
    "f_df_csv = \"./df_csv_raw\" + ts + \".pkl\"\n",
    "print(f_df_csv)\n",
    "df_f.to_pickle(f_df_csv)"
   ]
  },
  {
   "cell_type": "code",
   "execution_count": 16,
   "metadata": {},
   "outputs": [],
   "source": [
    "# del df_i"
   ]
  },
  {
   "cell_type": "code",
   "execution_count": null,
   "metadata": {},
   "outputs": [],
   "source": []
  },
  {
   "cell_type": "code",
   "execution_count": null,
   "metadata": {},
   "outputs": [],
   "source": []
  },
  {
   "cell_type": "code",
   "execution_count": null,
   "metadata": {},
   "outputs": [],
   "source": []
  },
  {
   "cell_type": "code",
   "execution_count": null,
   "metadata": {},
   "outputs": [],
   "source": []
  },
  {
   "cell_type": "code",
   "execution_count": null,
   "metadata": {},
   "outputs": [],
   "source": []
  },
  {
   "cell_type": "code",
   "execution_count": null,
   "metadata": {},
   "outputs": [],
   "source": []
  },
  {
   "cell_type": "code",
   "execution_count": null,
   "metadata": {},
   "outputs": [],
   "source": []
  },
  {
   "cell_type": "code",
   "execution_count": null,
   "metadata": {},
   "outputs": [],
   "source": []
  },
  {
   "cell_type": "code",
   "execution_count": null,
   "metadata": {},
   "outputs": [],
   "source": []
  },
  {
   "cell_type": "code",
   "execution_count": null,
   "metadata": {},
   "outputs": [],
   "source": []
  },
  {
   "cell_type": "code",
   "execution_count": null,
   "metadata": {},
   "outputs": [],
   "source": []
  },
  {
   "cell_type": "code",
   "execution_count": null,
   "metadata": {},
   "outputs": [],
   "source": []
  },
  {
   "cell_type": "code",
   "execution_count": null,
   "metadata": {},
   "outputs": [],
   "source": []
  },
  {
   "cell_type": "code",
   "execution_count": null,
   "metadata": {},
   "outputs": [],
   "source": [
    "1"
   ]
  },
  {
   "cell_type": "markdown",
   "metadata": {},
   "source": [
    "# "
   ]
  },
  {
   "cell_type": "code",
   "execution_count": null,
   "metadata": {},
   "outputs": [],
   "source": []
  },
  {
   "cell_type": "code",
   "execution_count": null,
   "metadata": {},
   "outputs": [],
   "source": []
  },
  {
   "cell_type": "code",
   "execution_count": null,
   "metadata": {},
   "outputs": [],
   "source": []
  }
 ],
 "metadata": {
  "kernelspec": {
   "display_name": "Python 3 (ipykernel)",
   "language": "python",
   "name": "python3"
  },
  "language_info": {
   "codemirror_mode": {
    "name": "ipython",
    "version": 3
   },
   "file_extension": ".py",
   "mimetype": "text/x-python",
   "name": "python",
   "nbconvert_exporter": "python",
   "pygments_lexer": "ipython3",
   "version": "3.10.11"
  }
 },
 "nbformat": 4,
 "nbformat_minor": 4
}
